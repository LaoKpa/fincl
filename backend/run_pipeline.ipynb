{
 "cells": [
  {
   "cell_type": "code",
   "execution_count": 1,
   "metadata": {},
   "outputs": [],
   "source": [
    "%load_ext autoreload\n",
    "%autoreload 2"
   ]
  },
  {
   "cell_type": "code",
   "execution_count": 2,
   "metadata": {
    "scrolled": true
   },
   "outputs": [
    {
     "name": "stderr",
     "output_type": "stream",
     "text": [
      "c:\\users\\doda\\anaconda3\\envs\\fincl\\lib\\site-packages\\sklearn\\utils\\deprecation.py:144: FutureWarning: The sklearn.ensemble.bagging module is  deprecated in version 0.22 and will be removed in version 0.24. The corresponding classes / functions should instead be imported from sklearn.ensemble. Anything that cannot be imported from sklearn.ensemble is now part of the private API.\n",
      "  warnings.warn(message, FutureWarning)\n",
      "c:\\users\\doda\\anaconda3\\envs\\fincl\\lib\\site-packages\\sklearn\\utils\\deprecation.py:144: FutureWarning: The sklearn.ensemble.base module is  deprecated in version 0.22 and will be removed in version 0.24. The corresponding classes / functions should instead be imported from sklearn.ensemble. Anything that cannot be imported from sklearn.ensemble is now part of the private API.\n",
      "  warnings.warn(message, FutureWarning)\n",
      "2020-02-13 18:30:35,864 Loaded backend module://ipykernel.pylab.backend_inline version unknown.\n"
     ]
    },
    {
     "name": "stdout",
     "output_type": "stream",
     "text": [
      "116\n"
     ]
    }
   ],
   "source": [
    "from itertools import product\n",
    "from datetime import date\n",
    "from path import Path\n",
    "import pandas as pd\n",
    "import random\n",
    "\n",
    "import os\n",
    "os.environ['NUMEXPR_MAX_THREADS'] = '32'\n",
    "\n",
    "from mlbt.run_bt import run_bt\n",
    "from mlbt.feature_eng import define_feature_configs\n",
    "from mlbt.load_data import LENGTH_RANKING\n",
    "\n",
    "\n",
    "DATA_DIR = Path(\"~/Dropbox/algotrading/data\").expanduser()\n",
    "s_csv = pd.read_csv(DATA_DIR / \"symbols.csv\", index_col=\"iqsymbol\")\n",
    "\n",
    "# Code to execute the pipeline inside a multiprocessing.Pool\n",
    "# This creates the payloads that \"run_frontend_payloads.ipynb\" can use to generate the\n",
    "# frontend payloads (.json loaded by the frontend)\n",
    "ranking = [\"equity_index\", \"\"]\n",
    "\n",
    "\n",
    "symbol_groups = list(\n",
    "    {\n",
    "        \"agriculture\": \"Agriculture\",\n",
    "        \"currency\": \"Currency\",\n",
    "        \"energy\": \"Energy\",\n",
    "        \"equity_index\": \"Equity Index\",\n",
    "        \"interest_rate\": \"Interest Rate\",\n",
    "        \"metals\": \"Metals\",\n",
    "    }.keys()\n",
    ")\n",
    "\n",
    "features = define_feature_configs()\n",
    "print(len(features))\n",
    "c_s = (len(features) // 32) + 1\n",
    "data_sim = {\n",
    "    \"start_date\": [date(2000, 1, 1)],\n",
    "    \"end_date\": [date(2021, 1, 1)],\n",
    "#     \"symbol_groups\": [symbol_groups],\n",
    "#     \"symbol_groups\": [[x] for x in symbol_groups],\n",
    "#     \"symbol_groups\": [['equity_index'], ['interest_rate']],\n",
    "#     \"symbols\": [['@NQ#C']],\n",
    "    \"symbols\": [[x] for x in LENGTH_RANKING],\n",
    "    \"bar_type\": [\"dollar\"],\n",
    "    \"binarize\": [\"fixed_horizon\"],\n",
    "#     \"binarize_params\": [10, 25, 50, 100],\n",
    "#     \"binarize_params\": [10, 25, 100],\n",
    "    \"binarize_params\": [50],\n",
    "    \"alpha\": [\"none\"],\n",
    "#     \"features\": [features[i:i+c_s] for i in range(0, len(features), c_s)],\n",
    "    \"features\": [features],\n",
    "#     \"classifier\": [\"random_forest\", \"xgboost\", \"lgbm\", \"knn\", \"dummy\"],\n",
    "#     \"classifier\": [\"random_forest\", \"xgboost\", \"lgbm\", \"dummy\"],\n",
    "#     \"classifier\": [\"random_forest\", \"xgboost\", \"dummy\"],\n",
    "#     \"classifier\": [\"tpot\"],\n",
    "    \"classifier\": [\"lgbm\"],\n",
    "    \"num_threads\": [32], # how many parallel hyperopti \n",
    "    \"n_jobs\": [32], # how many parallel infer\n",
    "    \"num_threads\": [1], # how many parallel hyperopti \n",
    "    \"n_jobs\": [1], # how many parallel infer\n",
    "    \"func\": [run_bt],\n",
    "#     \"feature_calc_only\": [True],\n",
    "    \"feature_imp_only\": [True],\n",
    "    \"check_completed\": [False],\n",
    "#     \"optimize_hypers\": [False],\n",
    "#     \"reuse_hypers\": [False],\n",
    "#     \"load_from_disk\": [False],\n",
    "#     \"skip_feature_imp\": [True],\n",
    "}"
   ]
  },
  {
   "cell_type": "code",
   "execution_count": 3,
   "metadata": {
    "scrolled": true
   },
   "outputs": [],
   "source": [
    "datas = list(dict(zip(data_sim.keys(), x)) for x in product(*data_sim.values()))\n",
    "datas\n",
    "for data in datas:\n",
    "    data['features'] = list(sorted(data['features'], key=lambda x:random.random()))\n"
   ]
  },
  {
   "cell_type": "code",
   "execution_count": 4,
   "metadata": {
    "scrolled": false
   },
   "outputs": [
    {
     "data": {
      "text/plain": [
       "48"
      ]
     },
     "execution_count": 4,
     "metadata": {},
     "output_type": "execute_result"
    }
   ],
   "source": [
    "len(datas)"
   ]
  },
  {
   "cell_type": "code",
   "execution_count": 5,
   "metadata": {},
   "outputs": [
    {
     "data": {
      "text/plain": [
       "[{'name': 'entropy',\n",
       "  'method': 'plugin',\n",
       "  'encoding': 'quantile',\n",
       "  'window': 25,\n",
       "  'symbol': {'name': 'log_ret'}},\n",
       " {'name': 'kyle', 'window': 50},\n",
       " {'name': 'entropy',\n",
       "  'method': 'plugin',\n",
       "  'encoding': 'binary',\n",
       "  'window': 25,\n",
       "  'symbol': {'name': 'log_ret'}},\n",
       " {'name': 'entropy',\n",
       "  'method': 'lz',\n",
       "  'encoding': 'binary',\n",
       "  'window': 50,\n",
       "  'symbol': {'name': 'int_ret'}},\n",
       " {'name': 'entropy',\n",
       "  'method': 'plugin',\n",
       "  'encoding': 'sigma',\n",
       "  'window': 25,\n",
       "  'symbol': {'name': 'int_ret'}},\n",
       " {'name': 'entropy',\n",
       "  'method': 'lz',\n",
       "  'encoding': 'quantile',\n",
       "  'window': 25,\n",
       "  'symbol': {'name': 'int_ret'}},\n",
       " {'name': 'auto',\n",
       "  'window': 250,\n",
       "  'lag': 25,\n",
       "  'symbol': {'name': 'stdev',\n",
       "   'window': 250,\n",
       "   'symbol': {'name': 'volratio', 'com': 250}}},\n",
       " {'name': 'lag', 'lag': 50, 'symbol': {'name': 'volratio', 'com': 50}},\n",
       " {'name': 'entropy',\n",
       "  'method': 'shannon',\n",
       "  'encoding': 'binary',\n",
       "  'window': 50,\n",
       "  'symbol': {'name': 'log_ret'}},\n",
       " {'name': 'entropy',\n",
       "  'method': 'plugin',\n",
       "  'encoding': 'sigma',\n",
       "  'window': 25,\n",
       "  'symbol': {'name': 'log_ret'}},\n",
       " {'name': 'roll', 'window': 25},\n",
       " {'name': 'stdev',\n",
       "  'window': 25,\n",
       "  'symbol': {'name': 'log_ret',\n",
       "   'symbol': {'name': 'time_bars', 'size': 60, 'symbol': 'VIX.XO'}}},\n",
       " {'name': 'stdev',\n",
       "  'window': 25,\n",
       "  'symbol': {'name': 'log_ret',\n",
       "   'symbol': {'name': 'time_bars', 'size': 60, 'symbol': 'VIX.XO'}}},\n",
       " {'name': 'auto',\n",
       "  'window': 250,\n",
       "  'lag': 25,\n",
       "  'symbol': {'name': 'int_ret',\n",
       "   'symbol': {'name': 'time_bars', 'size': 60, 'symbol': 'VIX.XO'}}},\n",
       " {'name': 'stdev',\n",
       "  'window': 50,\n",
       "  'symbol': {'name': 'log_ret',\n",
       "   'symbol': {'name': 'time_bars', 'size': 60, 'symbol': 'VIX.XO'}}},\n",
       " {'name': 'int_ret',\n",
       "  'symbol': {'name': 'time_bars', 'size': 60, 'symbol': 'VIX.XO'}},\n",
       " {'name': 'stdev', 'window': 25, 'symbol': {'name': 'int_ret'}},\n",
       " {'name': 'entropy',\n",
       "  'method': 'plugin',\n",
       "  'encoding': 'quantile',\n",
       "  'window': 50,\n",
       "  'symbol': {'name': 'log_ret'}},\n",
       " {'name': 'entropy',\n",
       "  'method': 'shannon',\n",
       "  'encoding': 'binary',\n",
       "  'window': 50,\n",
       "  'symbol': {'name': 'int_ret'}},\n",
       " {'name': 'int_ret', 'periods': 25},\n",
       " {'name': 'auto',\n",
       "  'window': 250,\n",
       "  'lag': 50,\n",
       "  'symbol': {'name': 'volratio', 'com': 250}},\n",
       " {'name': 'kyle', 'window': 250},\n",
       " {'name': 'stdev',\n",
       "  'window': 25,\n",
       "  'symbol': {'name': 'int_ret',\n",
       "   'symbol': {'name': 'time_bars', 'size': 60, 'symbol': 'VIX.XO'}}},\n",
       " {'name': 'stdev', 'window': 50, 'symbol': {'name': 'ffd', 'd': 0.3}},\n",
       " {'name': 'entropy',\n",
       "  'method': 'shannon',\n",
       "  'encoding': 'quantile',\n",
       "  'window': 250,\n",
       "  'symbol': {'name': 'log_ret'}},\n",
       " {'name': 'entropy',\n",
       "  'method': 'plugin',\n",
       "  'encoding': 'quantile',\n",
       "  'window': 25,\n",
       "  'symbol': {'name': 'log_ret'}},\n",
       " {'name': 'entropy',\n",
       "  'method': 'shannon',\n",
       "  'encoding': 'quantile',\n",
       "  'window': 50,\n",
       "  'symbol': {'name': 'int_ret'}},\n",
       " {'name': 'log_ret',\n",
       "  'symbol': {'name': 'time_bars', 'size': 60, 'symbol': 'VIX.XO'}},\n",
       " {'name': 'entropy',\n",
       "  'method': 'shannon',\n",
       "  'encoding': 'sigma',\n",
       "  'window': 50,\n",
       "  'symbol': {'name': 'log_ret'}},\n",
       " {'name': 'entropy',\n",
       "  'method': 'lz',\n",
       "  'encoding': 'sigma',\n",
       "  'window': 250,\n",
       "  'symbol': {'name': 'int_ret'}},\n",
       " {'name': 'entropy',\n",
       "  'method': 'lz',\n",
       "  'encoding': 'binary',\n",
       "  'window': 250,\n",
       "  'symbol': {'name': 'log_ret'}},\n",
       " {'name': 'entropy',\n",
       "  'method': 'plugin',\n",
       "  'encoding': 'quantile',\n",
       "  'window': 25,\n",
       "  'symbol': {'name': 'log_ret'}},\n",
       " {'name': 'entropy',\n",
       "  'method': 'shannon',\n",
       "  'encoding': 'binary',\n",
       "  'window': 50,\n",
       "  'symbol': {'name': 'int_ret'}},\n",
       " {'name': 'roll', 'window': 50},\n",
       " {'name': 'entropy',\n",
       "  'method': 'plugin',\n",
       "  'encoding': 'quantile',\n",
       "  'window': 50,\n",
       "  'symbol': {'name': 'int_ret'}},\n",
       " {'name': 'entropy',\n",
       "  'method': 'shannon',\n",
       "  'encoding': 'quantile',\n",
       "  'window': 25,\n",
       "  'symbol': {'name': 'int_ret'}},\n",
       " {'name': 'stdev', 'window': 250, 'symbol': {'name': 'log_ret'}},\n",
       " {'name': 'entropy',\n",
       "  'method': 'shannon',\n",
       "  'encoding': 'quantile',\n",
       "  'window': 250,\n",
       "  'symbol': {'name': 'log_ret'}},\n",
       " {'name': 'entropy',\n",
       "  'method': 'lz',\n",
       "  'encoding': 'binary',\n",
       "  'window': 25,\n",
       "  'symbol': {'name': 'log_ret'}},\n",
       " {'name': 'entropy',\n",
       "  'method': 'plugin',\n",
       "  'encoding': 'sigma',\n",
       "  'window': 250,\n",
       "  'symbol': {'name': 'log_ret'}},\n",
       " {'name': 'entropy',\n",
       "  'method': 'lz',\n",
       "  'encoding': 'quantile',\n",
       "  'window': 50,\n",
       "  'symbol': {'name': 'int_ret'}},\n",
       " {'name': 'entropy',\n",
       "  'method': 'shannon',\n",
       "  'encoding': 'binary',\n",
       "  'window': 25,\n",
       "  'symbol': {'name': 'int_ret'}},\n",
       " {'name': 'entropy',\n",
       "  'method': 'shannon',\n",
       "  'encoding': 'binary',\n",
       "  'window': 50,\n",
       "  'symbol': {'name': 'log_ret'}},\n",
       " {'name': 'roll', 'window': 250},\n",
       " {'name': 'lag', 'lag': 50, 'symbol': {'name': 'volratio', 'com': 50}},\n",
       " {'name': 'kyle', 'window': 25},\n",
       " {'name': 'log_ret', 'periods': 250},\n",
       " {'name': 'volratio', 'com': 25}]"
      ]
     },
     "execution_count": 5,
     "metadata": {},
     "output_type": "execute_result"
    }
   ],
   "source": [
    "[x['features'][0] for x in datas]"
   ]
  },
  {
   "cell_type": "code",
   "execution_count": 6,
   "metadata": {},
   "outputs": [],
   "source": [
    "from mlbt.multiprocess import process_jobs"
   ]
  },
  {
   "cell_type": "code",
   "execution_count": 7,
   "metadata": {
    "scrolled": false
   },
   "outputs": [
    {
     "data": {
      "text/plain": [
       "32"
      ]
     },
     "execution_count": 7,
     "metadata": {},
     "output_type": "execute_result"
    }
   ],
   "source": [
    "num_threads = max(1, min(32, len(datas)) - 0)\n",
    "num_threads\n",
    "      "
   ]
  },
  {
   "cell_type": "code",
   "execution_count": 8,
   "metadata": {
    "scrolled": false
   },
   "outputs": [
    {
     "name": "stderr",
     "output_type": "stream",
     "text": [
      "2020-02-13 18:30:41.893867 2.08% run_bt done after 0.09 minutes. Remaining 4.13 minutes.\r"
     ]
    },
    {
     "ename": "ValueError",
     "evalue": "Bin labels must be one fewer than the number of bin edges",
     "output_type": "error",
     "traceback": [
      "\u001b[1;31m---------------------------------------------------------------------------\u001b[0m",
      "\u001b[1;31mRemoteTraceback\u001b[0m                           Traceback (most recent call last)",
      "\u001b[1;31mRemoteTraceback\u001b[0m: \n\"\"\"\nTraceback (most recent call last):\n  File \"c:\\users\\doda\\anaconda3\\envs\\fincl\\lib\\multiprocessing\\pool.py\", line 119, in worker\n    result = (True, func(*args, **kwds))\n  File \"C:\\Users\\doda\\pr\\fincl\\backend\\mlbt\\multiprocess.py\", line 140, in expand_call\n    out = func(**kargs)\n  File \"C:\\Users\\doda\\pr\\fincl\\backend\\mlbt\\run_bt.py\", line 419, in run_bt\n    deck = run_feature_engineering(config, deck)\n  File \"C:\\Users\\doda\\pr\\fincl\\backend\\mlbt\\feature_eng.py\", line 236, in run_feature_engineering\n    feat = engineer_feature(deck, symbol, config, feat_config)[\"Close\"]\n  File \"C:\\Users\\doda\\pr\\fincl\\backend\\mlbt\\feature_eng.py\", line 287, in engineer_feature\n    feat = compute_feature(deck, for_symbol, config, feat_conf, symbol, df)\n  File \"C:\\Users\\doda\\pr\\fincl\\backend\\mlbt\\feature_eng.py\", line 304, in compute_feature\n    feat = FEATURES[feat_name](df, **params)\n  File \"C:\\Users\\doda\\pr\\fincl\\backend\\mlbt\\feature_eng.py\", line 132, in entropy\n    encoded = encoder(df[column]).dropna()\n  File \"C:\\Users\\doda\\pr\\fincl\\backend\\mlbt\\feature_eng.py\", line 93, in quantile_encoding\n    return pd.qcut(returns, q=q, labels=list(string.printable[:q]), duplicates='drop')\n  File \"c:\\users\\doda\\anaconda3\\envs\\fincl\\lib\\site-packages\\pandas\\core\\reshape\\tile.py\", line 306, in qcut\n    dtype=dtype, duplicates=duplicates)\n  File \"c:\\users\\doda\\anaconda3\\envs\\fincl\\lib\\site-packages\\pandas\\core\\reshape\\tile.py\", line 353, in _bins_to_cuts\n    raise ValueError('Bin labels must be one fewer than '\nValueError: Bin labels must be one fewer than the number of bin edges\n\"\"\"",
      "\nThe above exception was the direct cause of the following exception:\n",
      "\u001b[1;31mValueError\u001b[0m                                Traceback (most recent call last)",
      "\u001b[1;32m<ipython-input-8-ccf0f15ec007>\u001b[0m in \u001b[0;36m<module>\u001b[1;34m\u001b[0m\n\u001b[1;32m----> 1\u001b[1;33m \u001b[0mprocess_jobs\u001b[0m\u001b[1;33m(\u001b[0m\u001b[0mdatas\u001b[0m\u001b[1;33m,\u001b[0m \u001b[0mnum_threads\u001b[0m\u001b[1;33m=\u001b[0m\u001b[0mnum_threads\u001b[0m\u001b[1;33m)\u001b[0m\u001b[1;33m\u001b[0m\u001b[1;33m\u001b[0m\u001b[0m\n\u001b[0m",
      "\u001b[1;32m~\\pr\\fincl\\backend\\mlbt\\multiprocess.py\u001b[0m in \u001b[0;36mprocess_jobs\u001b[1;34m(jobs, task, num_threads)\u001b[0m\n\u001b[0;32m    124\u001b[0m     \u001b[0moutputs\u001b[0m\u001b[1;33m,\u001b[0m \u001b[0mout\u001b[0m\u001b[1;33m,\u001b[0m \u001b[0mtime0\u001b[0m \u001b[1;33m=\u001b[0m \u001b[0mpool\u001b[0m\u001b[1;33m.\u001b[0m\u001b[0mimap_unordered\u001b[0m\u001b[1;33m(\u001b[0m\u001b[0mexpand_call\u001b[0m\u001b[1;33m,\u001b[0m \u001b[0mjobs\u001b[0m\u001b[1;33m)\u001b[0m\u001b[1;33m,\u001b[0m \u001b[1;33m[\u001b[0m\u001b[1;33m]\u001b[0m\u001b[1;33m,\u001b[0m \u001b[0mtime\u001b[0m\u001b[1;33m.\u001b[0m\u001b[0mtime\u001b[0m\u001b[1;33m(\u001b[0m\u001b[1;33m)\u001b[0m\u001b[1;33m\u001b[0m\u001b[1;33m\u001b[0m\u001b[0m\n\u001b[0;32m    125\u001b[0m     \u001b[1;31m# Process asyn output, report progress\u001b[0m\u001b[1;33m\u001b[0m\u001b[1;33m\u001b[0m\u001b[1;33m\u001b[0m\u001b[0m\n\u001b[1;32m--> 126\u001b[1;33m     \u001b[1;32mfor\u001b[0m \u001b[0mi\u001b[0m\u001b[1;33m,\u001b[0m \u001b[0mout_\u001b[0m \u001b[1;32min\u001b[0m \u001b[0menumerate\u001b[0m\u001b[1;33m(\u001b[0m\u001b[0moutputs\u001b[0m\u001b[1;33m,\u001b[0m \u001b[1;36m1\u001b[0m\u001b[1;33m)\u001b[0m\u001b[1;33m:\u001b[0m\u001b[1;33m\u001b[0m\u001b[1;33m\u001b[0m\u001b[0m\n\u001b[0m\u001b[0;32m    127\u001b[0m         \u001b[0mout\u001b[0m\u001b[1;33m.\u001b[0m\u001b[0mappend\u001b[0m\u001b[1;33m(\u001b[0m\u001b[0mout_\u001b[0m\u001b[1;33m)\u001b[0m\u001b[1;33m\u001b[0m\u001b[1;33m\u001b[0m\u001b[0m\n\u001b[0;32m    128\u001b[0m         \u001b[0mreport_progress\u001b[0m\u001b[1;33m(\u001b[0m\u001b[0mi\u001b[0m\u001b[1;33m,\u001b[0m \u001b[0mlen\u001b[0m\u001b[1;33m(\u001b[0m\u001b[0mjobs\u001b[0m\u001b[1;33m)\u001b[0m\u001b[1;33m,\u001b[0m \u001b[0mtime0\u001b[0m\u001b[1;33m,\u001b[0m \u001b[0mtask\u001b[0m\u001b[1;33m)\u001b[0m\u001b[1;33m\u001b[0m\u001b[1;33m\u001b[0m\u001b[0m\n",
      "\u001b[1;32mc:\\users\\doda\\anaconda3\\envs\\fincl\\lib\\multiprocessing\\pool.py\u001b[0m in \u001b[0;36mnext\u001b[1;34m(self, timeout)\u001b[0m\n\u001b[0;32m    759\u001b[0m         \u001b[1;32mif\u001b[0m \u001b[0msuccess\u001b[0m\u001b[1;33m:\u001b[0m\u001b[1;33m\u001b[0m\u001b[1;33m\u001b[0m\u001b[0m\n\u001b[0;32m    760\u001b[0m             \u001b[1;32mreturn\u001b[0m \u001b[0mvalue\u001b[0m\u001b[1;33m\u001b[0m\u001b[1;33m\u001b[0m\u001b[0m\n\u001b[1;32m--> 761\u001b[1;33m         \u001b[1;32mraise\u001b[0m \u001b[0mvalue\u001b[0m\u001b[1;33m\u001b[0m\u001b[1;33m\u001b[0m\u001b[0m\n\u001b[0m\u001b[0;32m    762\u001b[0m \u001b[1;33m\u001b[0m\u001b[0m\n\u001b[0;32m    763\u001b[0m     \u001b[0m__next__\u001b[0m \u001b[1;33m=\u001b[0m \u001b[0mnext\u001b[0m                    \u001b[1;31m# XXX\u001b[0m\u001b[1;33m\u001b[0m\u001b[1;33m\u001b[0m\u001b[0m\n",
      "\u001b[1;31mValueError\u001b[0m: Bin labels must be one fewer than the number of bin edges"
     ]
    }
   ],
   "source": [
    "process_jobs(datas, num_threads=num_threads)"
   ]
  },
  {
   "cell_type": "code",
   "execution_count": null,
   "metadata": {
    "scrolled": true
   },
   "outputs": [],
   "source": [
    "# for data in datas:\n",
    "#     run_bt(**data)"
   ]
  },
  {
   "cell_type": "code",
   "execution_count": null,
   "metadata": {
    "scrolled": false
   },
   "outputs": [],
   "source": [
    "%debug"
   ]
  },
  {
   "cell_type": "code",
   "execution_count": null,
   "metadata": {},
   "outputs": [],
   "source": [
    "1"
   ]
  },
  {
   "cell_type": "code",
   "execution_count": null,
   "metadata": {},
   "outputs": [],
   "source": [
    "print '*' * 100000000"
   ]
  },
  {
   "cell_type": "code",
   "execution_count": null,
   "metadata": {},
   "outputs": [],
   "source": []
  }
 ],
 "metadata": {
  "kernelspec": {
   "display_name": "Python 3",
   "language": "python",
   "name": "python3"
  },
  "language_info": {
   "codemirror_mode": {
    "name": "ipython",
    "version": 3
   },
   "file_extension": ".py",
   "mimetype": "text/x-python",
   "name": "python",
   "nbconvert_exporter": "python",
   "pygments_lexer": "ipython3",
   "version": "3.6.7"
  }
 },
 "nbformat": 4,
 "nbformat_minor": 2
}
