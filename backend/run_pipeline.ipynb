{
 "cells": [
  {
   "cell_type": "code",
   "execution_count": null,
   "metadata": {},
   "outputs": [],
   "source": [
    "%load_ext autoreload\n",
    "%autoreload 2"
   ]
  },
  {
   "cell_type": "code",
   "execution_count": null,
   "metadata": {},
   "outputs": [],
   "source": [
    "from itertools import product\n",
    "from datetime import date\n",
    "from path import Path\n",
    "import pandas as pd\n",
    "\n",
    "from mlbt.run_bt import run_bt\n",
    "\n",
    "DATA_DIR = Path(\"~/Dropbox/algotrading/data\").expanduser()\n",
    "s_csv = pd.read_csv(DATA_DIR / \"symbols.csv\", index_col=\"iqsymbol\")\n",
    "\n",
    "# Code to execute the pipeline inside a multiprocessing.Pool\n",
    "# This creates the payloads that \"run_frontend_payloads.ipynb\" can use to generate the\n",
    "# frontend payloads (.json loaded by the frontend)\n",
    "\n",
    "symbol_groups = list(\n",
    "    {\n",
    "        \"agriculture\": \"Agriculture\",\n",
    "        \"currency\": \"Currency\",\n",
    "        \"energy\": \"Energy\",\n",
    "        \"equity_index\": \"Equity Index\",\n",
    "        \"interest_rate\": \"Interest Rate\",\n",
    "        \"metals\": \"Metals\",\n",
    "    }.keys()\n",
    ")\n",
    "\n",
    "data_sim = {\n",
    "    \"start_date\": [date(2000, 1, 1)],\n",
    "    \"end_date\": [date(2021, 1, 1)],\n",
    "    \"symbol_groups\": [symbol_groups],\n",
    "    \"bar_type\": [\"dollar\"],\n",
    "    \"binarize\": [\"fixed_horizon\"],\n",
    "    \"binarize_params\": [10, 25, 50, 100],\n",
    "    \"alpha\": [\"none\"],\n",
    "    \"classifier\": [\"random_forest\", \"xgboost\", \"lgbm\", \"knn\", \"dummy\"],\n",
    "    \"num_threads\": [1], # how many parallel hyperopti \n",
    "    \"n_jobs\": [2], # how many parallel infer\n",
    "    \"func\": [run_bt],\n",
    "    \"check_completed\": [False],\n",
    "}"
   ]
  },
  {
   "cell_type": "code",
   "execution_count": null,
   "metadata": {
    "scrolled": true
   },
   "outputs": [],
   "source": [
    "datas = list(dict(zip(data_sim.keys(), x)) for x in product(*data_sim.values()))\n",
    "datas"
   ]
  },
  {
   "cell_type": "code",
   "execution_count": null,
   "metadata": {
    "scrolled": true
   },
   "outputs": [],
   "source": [
    "len(datas)"
   ]
  },
  {
   "cell_type": "code",
   "execution_count": null,
   "metadata": {},
   "outputs": [],
   "source": [
    "from mlbt.multiprocess import process_jobs"
   ]
  },
  {
   "cell_type": "code",
   "execution_count": null,
   "metadata": {
    "scrolled": false
   },
   "outputs": [],
   "source": [
    "process_jobs(datas, num_threads=min(32, len(datas)))"
   ]
  },
  {
   "cell_type": "code",
   "execution_count": null,
   "metadata": {},
   "outputs": [],
   "source": []
  }
 ],
 "metadata": {
  "kernelspec": {
   "display_name": "Python 3",
   "language": "python",
   "name": "python3"
  },
  "language_info": {
   "codemirror_mode": {
    "name": "ipython",
    "version": 3
   },
   "file_extension": ".py",
   "mimetype": "text/x-python",
   "name": "python",
   "nbconvert_exporter": "python",
   "pygments_lexer": "ipython3",
   "version": "3.6.7"
  }
 },
 "nbformat": 4,
 "nbformat_minor": 2
}
