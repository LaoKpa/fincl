{
 "cells": [
  {
   "cell_type": "code",
   "execution_count": 1,
   "metadata": {},
   "outputs": [],
   "source": [
    "# default_exp feature_eng"
   ]
  },
  {
   "cell_type": "code",
   "execution_count": 6,
   "metadata": {},
   "outputs": [
    {
     "name": "stderr",
     "output_type": "stream",
     "text": [
      "c:\\users\\doda\\anaconda3\\envs\\metal\\lib\\site-packages\\sklearn\\utils\\deprecation.py:144: FutureWarning: The sklearn.ensemble.bagging module is  deprecated in version 0.22 and will be removed in version 0.24. The corresponding classes / functions should instead be imported from sklearn.ensemble. Anything that cannot be imported from sklearn.ensemble is now part of the private API.\n",
      "  warnings.warn(message, FutureWarning)\n",
      "c:\\users\\doda\\anaconda3\\envs\\metal\\lib\\site-packages\\sklearn\\utils\\deprecation.py:144: FutureWarning: The sklearn.ensemble.base module is  deprecated in version 0.22 and will be removed in version 0.24. The corresponding classes / functions should instead be imported from sklearn.ensemble. Anything that cannot be imported from sklearn.ensemble is now part of the private API.\n",
      "  warnings.warn(message, FutureWarning)\n"
     ]
    }
   ],
   "source": [
    "# export\n",
    "from mlfinlab.microstructural_features import (\n",
    "    get_roll_measure,\n",
    "    get_roll_impact,\n",
    "    get_bar_based_kyle_lambda,\n",
    "    get_bar_based_amihud_lambda,\n",
    ")\n",
    "import pandas as pd\n",
    "import numpy as np\n",
    "import logging\n",
    "from mlbt.load_data import load_feat, save_feat\n",
    "from mlbt.frac_diff import frac_diff_ffd\n",
    "from mlbt.load_data import get_data, SYMBOLS_CSV\n",
    "\n",
    "SYMBOLS_CSV = SYMBOLS_CSV.copy()\n",
    "SYMBOLS_CSV.columns = SYMBOLS_CSV.columns.str.lower()\n",
    "SYMBOLS_DICT = SYMBOLS_CSV.T.to_dict()\n",
    "\n",
    "\n",
    "def roll_measure(df, window=20):\n",
    "    \"\"\"The Roll measure attempts to estimate the bid-ask spread (i.e. liquidity) of an instrument\"\"\"\n",
    "    return get_roll_measure(df[\"Close\"], window)\n",
    "\n",
    "\n",
    "def roll_impact(df, window=20):\n",
    "    \"\"\"The Roll measure divided by dollar volume\"\"\"\n",
    "    return roll_measure(df, window) / df[\"Dollar Volume\"] * 1e9\n",
    "\n",
    "\n",
    "def kyle(df, window=20):\n",
    "    \"\"\"A measure of market impact cost (i.e. liquidity) from Kyle (1985)\"\"\"\n",
    "    return get_bar_based_kyle_lambda(df[\"Close\"], df[\"Volume\"], window) * 1e9\n",
    "\n",
    "\n",
    "def amihud(df, window=20):\n",
    "    \"\"\"A measure of market impact cost (i.e. liquidity) from Amihud (2002)\"\"\"\n",
    "    return get_bar_based_amihud_lambda(df[\"Close\"], df[\"Dollar Volume\"], window) * 1e9\n",
    "\n",
    "\n",
    "def autocorr(df, window, lag):\n",
    "    \"\"\"The raw price series' serial correlation\"\"\"\n",
    "    return df[\"Close\"].rolling(window).apply(lambda x: x.autocorr(lag=lag), raw=False)\n",
    "\n",
    "\n",
    "def stdev(df, window):\n",
    "    \"\"\"The raw price series' standard deviation\"\"\"\n",
    "    return df[\"Close\"].rolling(window).std()\n",
    "\n",
    "\n",
    "def log(df):\n",
    "    \"\"\"First difference of log-transformed prices\"\"\"\n",
    "    return np.log(df[\"Close\"]).diff()\n",
    "\n",
    "\n",
    "def ffd(df, d):\n",
    "    \"\"\"Fractionally differentiated prices\"\"\"\n",
    "    return frac_diff_ffd(np.log(df[[\"Close\"]]), d)[\"Close\"]\n",
    "\n",
    "\n",
    "def volratio(df, com):\n",
    "    \"\"\"\n",
    "    EWM of bar-by-bar buy volume divided by total volume\n",
    "    (i.e. a value >0.50 would indicate buyers driving the market)\n",
    "    \"\"\"\n",
    "    buy_vol, vol = df[\"Buy Volume\"], df[\"Volume\"]\n",
    "    return (buy_vol / vol).ewm(com=com).mean()\n",
    "\n",
    "\n",
    "FEATURES = {\n",
    "    \"auto\": autocorr,\n",
    "    \"stdev\": stdev,\n",
    "    \"roll\": roll_measure,\n",
    "    \"rollimp\": roll_impact,\n",
    "    \"kyle\": kyle,\n",
    "    \"amihud\": amihud,\n",
    "    \"volratio\": volratio,\n",
    "    \"log\": log,\n",
    "    \"ffd\": ffd,\n",
    "    \"close\": lambda df: df[\"Close\"],\n",
    "    \"sector\": lambda df: df[\"Close\"],\n",
    "}\n",
    "\n",
    "\n",
    "# def engineer_features(bars, features):\n",
    "# \"\"\"Parse and compute features\"\"\"\n",
    "# df = bars.copy(deep=True)\n",
    "# parse_num = lambda x: float(x) if \".\" in x else int(x)\n",
    "\n",
    "# for feature in features:\n",
    "#     logging.debug(feature)\n",
    "#     name, *params = feature.split(\"_\")\n",
    "#     params = map(parse_num, params)\n",
    "#     df[feature] = FEATURES[name](df, *params)\n",
    "\n",
    "# return df.drop(columns=bars.columns)\n",
    "\n",
    "def get_bars(deck, symbol, config):\n",
    "    if symbol in deck:\n",
    "        # TODO: Remove deep copy\n",
    "        bars = deck[symbol]['bars'].copy(deep=True)\n",
    "    else:\n",
    "        # We're loading a feature external to the price data of our trading universe\n",
    "        bars = get_data(symbol, \"minutely\", config[\"start_date\"], config[\"end_date\"])\n",
    "        \n",
    "    return bars\n",
    "    \n",
    "\n",
    "def engineer_feature(deck, for_symbol, config, feat_conf):\n",
    "    \"\"\"Parse and compute a feature\"\"\"\n",
    "    symbol = feat_conf['symbol'] = feat_conf.get('symbol', for_symbol)\n",
    "    feat = load_feat(config, feat_conf)\n",
    "    if feat is not None:\n",
    "        return feat\n",
    "\n",
    "    df = get_bars(deck, symbol, config)\n",
    "\n",
    "    logging.debug(f\"Computing {feat_conf['name']} for {for_symbol}: {feat_conf}\")\n",
    "    \n",
    "    if isinstance(symbol, dict):\n",
    "        # We're computing a feature on a feature\n",
    "        df = engineer_feature(deck, for_symbol, config, symbol)\n",
    "        \n",
    "    feat = compute_feature(deck, for_symbol, config, feat_conf, symbol, df)\n",
    "\n",
    "    if config[\"save_to_disk\"]:\n",
    "        save_feat(config, feat_conf, feat)\n",
    "    return feat\n",
    "\n",
    "def compute_feature(deck, for_symbol, config, feat_conf, symbol, df):\n",
    "    drop = ['name', 'symbol']\n",
    "    params = {k:v for k, v in feat_conf.items() if not k in drop}\n",
    "\n",
    "    feat_name = feat_conf['name']\n",
    "    if feat_name in ['sector', 'exchange']:\n",
    "        categories = list(sorted(set(SYMBOLS_CSV[feat_name])))\n",
    "        category = SYMBOLS_DICT[symbol][feat_name]\n",
    "        feat = pd.Series(categories.index(category), index=df.index)\n",
    "    else:\n",
    "        feat = FEATURES[feat_name](df, **params)\n",
    "            \n",
    "    # Every feature's column is called Close to enable easy recursion\n",
    "    feat = feat.to_frame(\"Close\")\n",
    "    return feat\n",
    "\n",
    "\n",
    "def define_features():\n",
    "    \"\"\"Stake out the list of features that is the basis for our features matrix\"\"\"\n",
    "    features = [\"log\", \"ffd_0.5\"]\n",
    "\n",
    "    for d in [50, 250, 500, 1000]:\n",
    "        for lag in [25, 50, 250, 500, 1000]:\n",
    "            if lag < d:\n",
    "                features.append(f\"auto_{d}_{lag}\")\n",
    "\n",
    "        features.append(f\"stdev_{d}\")\n",
    "        features.append(f\"roll_{d}\")\n",
    "        features.append(f\"rollimp_{d}\")\n",
    "        features.append(f\"amihud_{d}\")\n",
    "        features.append(f\"kyle_{d}\")\n",
    "        features.append(f\"volratio_{d}\")\n",
    "\n",
    "    return features\n",
    "\n",
    "\n",
    "def define_feature_configs():\n",
    "    \"\"\"Stake out the list of features that is the basis for our features matrix\"\"\"\n",
    "    ffd_f = {\"name\": \"ffd\", \"d\": 0.5}\n",
    "    features = [\n",
    "#         {\"name\": \"sector\"},\n",
    "        {\"name\": \"log\"},\n",
    "        {\"name\": \"close\", \"symbol\": 'VIX.XO'},\n",
    "        ffd_f,\n",
    "    ]\n",
    "\n",
    "    for window in [50, 250, 500, 1000]:\n",
    "        for lag in [25, 50, 250, 500, 1000]:\n",
    "            if lag < window:\n",
    "                features.append({\"name\": \"auto\", \"window\": window, \"lag\": lag})\n",
    "    \n",
    "        features.append({\"name\": \"stdev\", \"window\": window})\n",
    "        features.append({\"name\": \"roll\", \"window\": window})\n",
    "        features.append({\"name\": \"rollimp\", \"window\": window})\n",
    "        features.append({\"name\": \"amihud\", \"window\": window})\n",
    "        features.append({\"name\": \"kyle\", \"window\": window})\n",
    "        features.append({\"name\": \"volratio\", \"com\": window})\n",
    "\n",
    "        # features.append({\"name\": \"stdev\", \"window\": window, \"symbol\": ffd_f})\n",
    "        \n",
    "    return features\n"
   ]
  },
  {
   "cell_type": "code",
   "execution_count": 27,
   "metadata": {
    "scrolled": false
   },
   "outputs": [],
   "source": [
    "feats = define_feature_configs()"
   ]
  },
  {
   "cell_type": "code",
   "execution_count": 28,
   "metadata": {},
   "outputs": [],
   "source": [
    "f = feats[-1]"
   ]
  },
  {
   "cell_type": "code",
   "execution_count": 29,
   "metadata": {},
   "outputs": [
    {
     "data": {
      "text/plain": [
       "{'name': 'stdev', 'window': '1000', 'symbol': {'name': 'ffd', 'd': '0.5'}}"
      ]
     },
     "execution_count": 29,
     "metadata": {},
     "output_type": "execute_result"
    }
   ],
   "source": [
    "f"
   ]
  },
  {
   "cell_type": "code",
   "execution_count": 30,
   "metadata": {},
   "outputs": [],
   "source": [
    "import json\n",
    "f['symbol']['a'] = '11'"
   ]
  },
  {
   "cell_type": "code",
   "execution_count": 31,
   "metadata": {},
   "outputs": [
    {
     "data": {
      "text/plain": [
       "'{\"name\": \"stdev\", \"window\": \"1000\", \"symbol\": {\"name\": \"ffd\", \"d\": \"0.5\", \"a\": \"11\"}}'"
      ]
     },
     "execution_count": 31,
     "metadata": {},
     "output_type": "execute_result"
    }
   ],
   "source": [
    "json.dumps(f, sort_keys=False)"
   ]
  },
  {
   "cell_type": "code",
   "execution_count": 45,
   "metadata": {},
   "outputs": [
    {
     "data": {
      "text/plain": [
       "'{name:stdev,symbol:{a:11,d:0.5,name:ffd},window:1000}'"
      ]
     },
     "execution_count": 45,
     "metadata": {},
     "output_type": "execute_result"
    }
   ],
   "source": [
    "json.dumps(f, sort_keys=True, separators=(',', ':')).replace('\"', '')"
   ]
  },
  {
   "cell_type": "code",
   "execution_count": null,
   "metadata": {},
   "outputs": [],
   "source": []
  },
  {
   "cell_type": "code",
   "execution_count": 46,
   "metadata": {},
   "outputs": [],
   "source": []
  },
  {
   "cell_type": "code",
   "execution_count": 1,
   "metadata": {},
   "outputs": [],
   "source": [
    "d = {'a':1}"
   ]
  },
  {
   "cell_type": "code",
   "execution_count": 3,
   "metadata": {},
   "outputs": [
    {
     "data": {
      "text/plain": [
       "1"
      ]
     },
     "execution_count": 3,
     "metadata": {},
     "output_type": "execute_result"
    }
   ],
   "source": [
    "d.pop('a')"
   ]
  },
  {
   "cell_type": "code",
   "execution_count": 1,
   "metadata": {},
   "outputs": [
    {
     "ename": "NameError",
     "evalue": "name 'd' is not defined",
     "output_type": "error",
     "traceback": [
      "\u001b[1;31m---------------------------------------------------------------------------\u001b[0m",
      "\u001b[1;31mNameError\u001b[0m                                 Traceback (most recent call last)",
      "\u001b[1;32m<ipython-input-1-e983f374794d>\u001b[0m in \u001b[0;36m<module>\u001b[1;34m\u001b[0m\n\u001b[1;32m----> 1\u001b[1;33m \u001b[0md\u001b[0m\u001b[1;33m\u001b[0m\u001b[1;33m\u001b[0m\u001b[0m\n\u001b[0m",
      "\u001b[1;31mNameError\u001b[0m: name 'd' is not defined"
     ]
    }
   ],
   "source": [
    "d"
   ]
  },
  {
   "cell_type": "code",
   "execution_count": 3,
   "metadata": {},
   "outputs": [],
   "source": [
    "import pandas as pd"
   ]
  },
  {
   "cell_type": "code",
   "execution_count": 11,
   "metadata": {},
   "outputs": [],
   "source": [
    "df = pd.DataFrame({'aA':[1,2,3]}, index=[1,3,6])\n",
    "df2 = pd.DataFrame({'bB':[8,9,10, 11, 12]}, index=[1,2,3,4,5,])"
   ]
  },
  {
   "cell_type": "code",
   "execution_count": 12,
   "metadata": {},
   "outputs": [
    {
     "data": {
      "text/html": [
       "<div>\n",
       "<style scoped>\n",
       "    .dataframe tbody tr th:only-of-type {\n",
       "        vertical-align: middle;\n",
       "    }\n",
       "\n",
       "    .dataframe tbody tr th {\n",
       "        vertical-align: top;\n",
       "    }\n",
       "\n",
       "    .dataframe thead th {\n",
       "        text-align: right;\n",
       "    }\n",
       "</style>\n",
       "<table border=\"1\" class=\"dataframe\">\n",
       "  <thead>\n",
       "    <tr style=\"text-align: right;\">\n",
       "      <th></th>\n",
       "      <th>aA</th>\n",
       "    </tr>\n",
       "  </thead>\n",
       "  <tbody>\n",
       "    <tr>\n",
       "      <th>1</th>\n",
       "      <td>1</td>\n",
       "    </tr>\n",
       "    <tr>\n",
       "      <th>3</th>\n",
       "      <td>2</td>\n",
       "    </tr>\n",
       "    <tr>\n",
       "      <th>6</th>\n",
       "      <td>3</td>\n",
       "    </tr>\n",
       "  </tbody>\n",
       "</table>\n",
       "</div>"
      ],
      "text/plain": [
       "   aA\n",
       "1   1\n",
       "3   2\n",
       "6   3"
      ]
     },
     "execution_count": 12,
     "metadata": {},
     "output_type": "execute_result"
    }
   ],
   "source": [
    "df"
   ]
  },
  {
   "cell_type": "code",
   "execution_count": 13,
   "metadata": {},
   "outputs": [
    {
     "data": {
      "text/html": [
       "<div>\n",
       "<style scoped>\n",
       "    .dataframe tbody tr th:only-of-type {\n",
       "        vertical-align: middle;\n",
       "    }\n",
       "\n",
       "    .dataframe tbody tr th {\n",
       "        vertical-align: top;\n",
       "    }\n",
       "\n",
       "    .dataframe thead th {\n",
       "        text-align: right;\n",
       "    }\n",
       "</style>\n",
       "<table border=\"1\" class=\"dataframe\">\n",
       "  <thead>\n",
       "    <tr style=\"text-align: right;\">\n",
       "      <th></th>\n",
       "      <th>bB</th>\n",
       "    </tr>\n",
       "  </thead>\n",
       "  <tbody>\n",
       "    <tr>\n",
       "      <th>1</th>\n",
       "      <td>8</td>\n",
       "    </tr>\n",
       "    <tr>\n",
       "      <th>2</th>\n",
       "      <td>9</td>\n",
       "    </tr>\n",
       "    <tr>\n",
       "      <th>3</th>\n",
       "      <td>10</td>\n",
       "    </tr>\n",
       "    <tr>\n",
       "      <th>4</th>\n",
       "      <td>11</td>\n",
       "    </tr>\n",
       "    <tr>\n",
       "      <th>5</th>\n",
       "      <td>12</td>\n",
       "    </tr>\n",
       "  </tbody>\n",
       "</table>\n",
       "</div>"
      ],
      "text/plain": [
       "   bB\n",
       "1   8\n",
       "2   9\n",
       "3  10\n",
       "4  11\n",
       "5  12"
      ]
     },
     "execution_count": 13,
     "metadata": {},
     "output_type": "execute_result"
    }
   ],
   "source": [
    "df2"
   ]
  },
  {
   "cell_type": "code",
   "execution_count": 16,
   "metadata": {},
   "outputs": [
    {
     "data": {
      "text/html": [
       "<div>\n",
       "<style scoped>\n",
       "    .dataframe tbody tr th:only-of-type {\n",
       "        vertical-align: middle;\n",
       "    }\n",
       "\n",
       "    .dataframe tbody tr th {\n",
       "        vertical-align: top;\n",
       "    }\n",
       "\n",
       "    .dataframe thead th {\n",
       "        text-align: right;\n",
       "    }\n",
       "</style>\n",
       "<table border=\"1\" class=\"dataframe\">\n",
       "  <thead>\n",
       "    <tr style=\"text-align: right;\">\n",
       "      <th></th>\n",
       "      <th>bB</th>\n",
       "    </tr>\n",
       "  </thead>\n",
       "  <tbody>\n",
       "    <tr>\n",
       "      <th>1</th>\n",
       "      <td>8</td>\n",
       "    </tr>\n",
       "    <tr>\n",
       "      <th>3</th>\n",
       "      <td>10</td>\n",
       "    </tr>\n",
       "    <tr>\n",
       "      <th>6</th>\n",
       "      <td>12</td>\n",
       "    </tr>\n",
       "  </tbody>\n",
       "</table>\n",
       "</div>"
      ],
      "text/plain": [
       "   bB\n",
       "1   8\n",
       "3  10\n",
       "6  12"
      ]
     },
     "execution_count": 16,
     "metadata": {},
     "output_type": "execute_result"
    }
   ],
   "source": [
    "\n",
    "df2.reindex(index=df.index, method='pad')"
   ]
  },
  {
   "cell_type": "code",
   "execution_count": null,
   "metadata": {},
   "outputs": [],
   "source": []
  }
 ],
 "metadata": {
  "kernelspec": {
   "display_name": "Python 3",
   "language": "python",
   "name": "python3"
  },
  "language_info": {
   "codemirror_mode": {
    "name": "ipython",
    "version": 3
   },
   "file_extension": ".py",
   "mimetype": "text/x-python",
   "name": "python",
   "nbconvert_exporter": "python",
   "pygments_lexer": "ipython3",
   "version": "3.6.7"
  }
 },
 "nbformat": 4,
 "nbformat_minor": 2
}
