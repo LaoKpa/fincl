{
 "cells": [
  {
   "cell_type": "code",
   "execution_count": 1,
   "metadata": {},
   "outputs": [],
   "source": [
    "# default_exp filters"
   ]
  },
  {
   "cell_type": "code",
   "execution_count": 2,
   "metadata": {},
   "outputs": [],
   "source": [
    "# export\n",
    "import pandas as pd\n",
    "\n",
    "\n",
    "def cusum(g_raw, h):\n",
    "    \"\"\"\n",
    "    The CUSUM filter is a quality-control method, designed to detect a shift in the mean value of\n",
    "    a measured quantity away from a target value.\n",
    "    \"\"\"\n",
    "    t_events, s_pos, s_neg = [], 0, 0\n",
    "    diff = g_raw.diff()\n",
    "    for i in diff.index[1:]:\n",
    "        s_pos, s_neg = max(0, s_pos + diff.loc[i]), min(0, s_neg + diff.loc[i])\n",
    "        if s_neg < -h:\n",
    "            s_neg = 0\n",
    "            t_events.append(i)\n",
    "        elif s_neg > h:\n",
    "            s_pos = 0\n",
    "            t_events.append(i)\n",
    "    return pd.DatetimeIndex(t_events)"
   ]
  },
  {
   "cell_type": "code",
   "execution_count": null,
   "metadata": {},
   "outputs": [],
   "source": []
  }
 ],
 "metadata": {
  "kernelspec": {
   "display_name": "Python 3",
   "language": "python",
   "name": "python3"
  },
  "language_info": {
   "codemirror_mode": {
    "name": "ipython",
    "version": 3
   },
   "file_extension": ".py",
   "mimetype": "text/x-python",
   "name": "python",
   "nbconvert_exporter": "python",
   "pygments_lexer": "ipython3",
   "version": "3.6.9"
  }
 },
 "nbformat": 4,
 "nbformat_minor": 2
}
