{
 "cells": [
  {
   "cell_type": "code",
   "execution_count": 21,
   "metadata": {},
   "outputs": [
    {
     "name": "stdout",
     "output_type": "stream",
     "text": [
      "The autoreload extension is already loaded. To reload it, use:\n",
      "  %reload_ext autoreload\n"
     ]
    }
   ],
   "source": [
    "%load_ext autoreload\n",
    "%autoreload 2"
   ]
  },
  {
   "cell_type": "code",
   "execution_count": 22,
   "metadata": {},
   "outputs": [],
   "source": [
    "import os\n",
    "import time\n",
    "\n",
    "from mlbt.tearsheets import create_frontend_payload, make_default_config\n",
    "from mlbt.multiprocess import process_jobs\n",
    "\n",
    "config = make_default_config()\n",
    "\n",
    "def latest_files(files):\n",
    "    return list(sorted(files, key=os.path.getmtime)[::-1])\n",
    "\n",
    "all_files = (config[\"DATA_DIR\"] / 'payloads').files()\n",
    "\n",
    "files = [x for x in all_files if x.size / 1e6 > 10 and '_none_' in x and not 'dummy' in x]# and 'lgb' in x]\n",
    "# files = [x for x in all_files if x.size / 1e6 > 1]# and '_none_' in x]\n",
    "\n",
    "# latest_file(files)"
   ]
  },
  {
   "cell_type": "code",
   "execution_count": 26,
   "metadata": {},
   "outputs": [
    {
     "name": "stdout",
     "output_type": "stream",
     "text": [
      "[Path('C:\\\\Users\\\\doda/Dropbox/algotrading/data\\\\payloads\\\\payload_agriculture-currency-energy-equity_index-interest_rate-metals_dollar_fixed_horizon_50_none_[]_lgbm.json'), Path('C:\\\\Users\\\\doda/Dropbox/algotrading/data\\\\payloads\\\\payload_agriculture-currency-energy-equity_index-interest_rate-metals_dollar_fixed_horizon_25_none_[]_lgbm.json'), Path('C:\\\\Users\\\\doda/Dropbox/algotrading/data\\\\payloads\\\\payload_agriculture-currency-energy-equity_index-interest_rate-metals_dollar_fixed_horizon_12_none_[]_lgbm.json'), Path('C:\\\\Users\\\\doda/Dropbox/algotrading/data\\\\payloads\\\\payload_agriculture-currency-energy-equity_index-interest_rate-metals_dollar_fixed_horizon_6_none_[]_lgbm.json'), Path('C:\\\\Users\\\\doda/Dropbox/algotrading/data\\\\payloads\\\\payload_agriculture-currency-energy-equity_index-interest_rate-metals_dollar_fixed_horizon_25_none_[]_random_forest.json'), Path('C:\\\\Users\\\\doda/Dropbox/algotrading/data\\\\payloads\\\\payload_agriculture-currency-energy-equity_index-interest_rate-metals_dollar_fixed_horizon_50_none_[]_random_forest.json'), Path('C:\\\\Users\\\\doda/Dropbox/algotrading/data\\\\payloads\\\\payload_agriculture-currency-energy-equity_index-interest_rate-metals_dollar_fixed_horizon_6_none_[]_random_forest.json'), Path('C:\\\\Users\\\\doda/Dropbox/algotrading/data\\\\payloads\\\\payload_agriculture-currency-energy-equity_index-interest_rate-metals_dollar_fixed_horizon_12_none_[]_random_forest.json'), Path('C:\\\\Users\\\\doda/Dropbox/algotrading/data\\\\payloads\\\\payload_agriculture-currency-energy-equity_index-interest_rate-metals_dollar_fixed_horizon_50_none_[]_xgboost.json'), Path('C:\\\\Users\\\\doda/Dropbox/algotrading/data\\\\payloads\\\\payload_agriculture-currency-energy-equity_index-interest_rate-metals_dollar_fixed_horizon_12_none_[]_xgboost.json'), Path('C:\\\\Users\\\\doda/Dropbox/algotrading/data\\\\payloads\\\\payload_agriculture-currency-energy-equity_index-interest_rate-metals_dollar_fixed_horizon_6_none_[]_xgboost.json'), Path('C:\\\\Users\\\\doda/Dropbox/algotrading/data\\\\payloads\\\\payload_agriculture-currency-energy-equity_index-interest_rate-metals_dollar_fixed_horizon_25_none_[]_xgboost.json')]\n"
     ]
    }
   ],
   "source": [
    "# time.sleep(60 * 20)\n",
    "selected_files = latest_files(files)[:12]\n",
    "print(selected_files)"
   ]
  },
  {
   "cell_type": "code",
   "execution_count": 27,
   "metadata": {
    "scrolled": false
   },
   "outputs": [],
   "source": [
    "# datas = [{'func': create_frontend_payload, 'file_name': fn, 'force': True} for fn in selected_files]\n",
    "# process_jobs(datas, num_threads=min(len(datas), 20))\n",
    "# datas"
   ]
  },
  {
   "cell_type": "code",
   "execution_count": null,
   "metadata": {
    "scrolled": false
   },
   "outputs": [
    {
     "name": "stderr",
     "output_type": "stream",
     "text": [
      "2020-02-21 15:08:28,945 Generating signals for 47 symbols on 443465 events with b_params=50\n",
      "2020-02-21 15:08:30,313 clf_signals shape (443465, 47)\n",
      "2020-02-21 15:08:33,222 Generating signals for 47 symbols on 443004 events with b_params=25\n",
      "2020-02-21 15:08:34,542 clf_signals shape (443004, 47)\n",
      "2020-02-21 15:08:37,412 Generating signals for 47 symbols on 442478 events with b_params=12\n",
      "2020-02-21 15:08:38,743 clf_signals shape (442478, 47)\n",
      "2020-02-21 15:08:41,593 Generating signals for 47 symbols on 440529 events with b_params=6\n",
      "2020-02-21 15:08:42,917 clf_signals shape (440529, 47)\n",
      "2020-02-21 15:08:45,752 Generating signals for 47 symbols on 443004 events with b_params=25\n",
      "2020-02-21 15:08:47,069 clf_signals shape (443004, 47)\n",
      "2020-02-21 15:08:49,944 Generating signals for 47 symbols on 443465 events with b_params=50\n",
      "2020-02-21 15:08:51,274 clf_signals shape (443465, 47)\n",
      "2020-02-21 15:08:54,124 Generating signals for 47 symbols on 440529 events with b_params=6\n",
      "2020-02-21 15:08:55,465 clf_signals shape (440529, 47)\n",
      "2020-02-21 15:08:58,319 Generating signals for 47 symbols on 442478 events with b_params=12\n",
      "2020-02-21 15:08:59,655 clf_signals shape (442478, 47)\n",
      "2020-02-21 15:09:02,511 Generating signals for 47 symbols on 443465 events with b_params=50\n",
      "2020-02-21 15:09:03,866 clf_signals shape (443465, 47)\n",
      "2020-02-21 15:09:06,699 Generating signals for 47 symbols on 442478 events with b_params=12\n",
      "2020-02-21 15:09:08,071 clf_signals shape (442478, 47)\n",
      "2020-02-21 15:09:10,909 Generating signals for 47 symbols on 440529 events with b_params=6\n",
      "2020-02-21 15:09:12,287 clf_signals shape (440529, 47)\n"
     ]
    }
   ],
   "source": [
    "create_frontend_payload(selected_files, True)"
   ]
  },
  {
   "cell_type": "code",
   "execution_count": 53,
   "metadata": {
    "scrolled": false
   },
   "outputs": [],
   "source": [
    "%debug"
   ]
  },
  {
   "cell_type": "code",
   "execution_count": null,
   "metadata": {
    "scrolled": true
   },
   "outputs": [],
   "source": [
    "# for file in files:\n",
    "#     create_frontend_payload(file, True)"
   ]
  },
  {
   "cell_type": "code",
   "execution_count": null,
   "metadata": {},
   "outputs": [],
   "source": []
  }
 ],
 "metadata": {
  "kernelspec": {
   "display_name": "Python 3",
   "language": "python",
   "name": "python3"
  },
  "language_info": {
   "codemirror_mode": {
    "name": "ipython",
    "version": 3
   },
   "file_extension": ".py",
   "mimetype": "text/x-python",
   "name": "python",
   "nbconvert_exporter": "python",
   "pygments_lexer": "ipython3",
   "version": "3.6.7"
  }
 },
 "nbformat": 4,
 "nbformat_minor": 2
}
