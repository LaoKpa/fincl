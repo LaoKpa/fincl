{
 "cells": [
  {
   "cell_type": "code",
   "execution_count": 21,
   "metadata": {},
   "outputs": [
    {
     "name": "stdout",
     "output_type": "stream",
     "text": [
      "The autoreload extension is already loaded. To reload it, use:\n",
      "  %reload_ext autoreload\n"
     ]
    }
   ],
   "source": [
    "%load_ext autoreload\n",
    "%autoreload 2"
   ]
  },
  {
   "cell_type": "code",
   "execution_count": 22,
   "metadata": {},
   "outputs": [],
   "source": [
    "import os\n",
    "import time\n",
    "\n",
    "from mlbt.tearsheets import create_frontend_payload, make_default_config\n",
    "from mlbt.multiprocess import process_jobs\n",
    "\n",
    "config = make_default_config()\n",
    "\n",
    "def latest_files(files):\n",
    "    return list(sorted(files, key=os.path.getmtime)[::-1])\n",
    "\n",
    "all_files = (config[\"DATA_DIR\"] / 'payloads').files()\n",
    "\n",
    "files = [x for x in all_files if x.size / 1e6 > 10 and '_none_' in x and not 'dummy' in x]# and 'lgb' in x]\n",
    "# files = [x for x in all_files if x.size / 1e6 > 1]# and '_none_' in x]\n",
    "\n",
    "# latest_file(files)"
   ]
  },
  {
   "cell_type": "code",
   "execution_count": 26,
   "metadata": {},
   "outputs": [
    {
     "name": "stdout",
     "output_type": "stream",
     "text": [
      "[Path('C:\\\\Users\\\\doda/Dropbox/algotrading/data\\\\payloads\\\\payload_agriculture-currency-energy-equity_index-interest_rate-metals_dollar_fixed_horizon_50_none_[]_lgbm.json'), Path('C:\\\\Users\\\\doda/Dropbox/algotrading/data\\\\payloads\\\\payload_agriculture-currency-energy-equity_index-interest_rate-metals_dollar_fixed_horizon_25_none_[]_lgbm.json'), Path('C:\\\\Users\\\\doda/Dropbox/algotrading/data\\\\payloads\\\\payload_agriculture-currency-energy-equity_index-interest_rate-metals_dollar_fixed_horizon_12_none_[]_lgbm.json'), Path('C:\\\\Users\\\\doda/Dropbox/algotrading/data\\\\payloads\\\\payload_agriculture-currency-energy-equity_index-interest_rate-metals_dollar_fixed_horizon_6_none_[]_lgbm.json'), Path('C:\\\\Users\\\\doda/Dropbox/algotrading/data\\\\payloads\\\\payload_agriculture-currency-energy-equity_index-interest_rate-metals_dollar_fixed_horizon_25_none_[]_random_forest.json'), Path('C:\\\\Users\\\\doda/Dropbox/algotrading/data\\\\payloads\\\\payload_agriculture-currency-energy-equity_index-interest_rate-metals_dollar_fixed_horizon_50_none_[]_random_forest.json'), Path('C:\\\\Users\\\\doda/Dropbox/algotrading/data\\\\payloads\\\\payload_agriculture-currency-energy-equity_index-interest_rate-metals_dollar_fixed_horizon_6_none_[]_random_forest.json'), Path('C:\\\\Users\\\\doda/Dropbox/algotrading/data\\\\payloads\\\\payload_agriculture-currency-energy-equity_index-interest_rate-metals_dollar_fixed_horizon_12_none_[]_random_forest.json'), Path('C:\\\\Users\\\\doda/Dropbox/algotrading/data\\\\payloads\\\\payload_agriculture-currency-energy-equity_index-interest_rate-metals_dollar_fixed_horizon_50_none_[]_xgboost.json'), Path('C:\\\\Users\\\\doda/Dropbox/algotrading/data\\\\payloads\\\\payload_agriculture-currency-energy-equity_index-interest_rate-metals_dollar_fixed_horizon_12_none_[]_xgboost.json'), Path('C:\\\\Users\\\\doda/Dropbox/algotrading/data\\\\payloads\\\\payload_agriculture-currency-energy-equity_index-interest_rate-metals_dollar_fixed_horizon_6_none_[]_xgboost.json'), Path('C:\\\\Users\\\\doda/Dropbox/algotrading/data\\\\payloads\\\\payload_agriculture-currency-energy-equity_index-interest_rate-metals_dollar_fixed_horizon_25_none_[]_xgboost.json')]\n"
     ]
    }
   ],
   "source": [
    "# time.sleep(60 * 20)\n",
    "selected_files = latest_files(files)[:12]\n",
    "print(selected_files)"
   ]
  },
  {
   "cell_type": "code",
   "execution_count": 27,
   "metadata": {
    "scrolled": false
   },
   "outputs": [],
   "source": [
    "# datas = [{'func': create_frontend_payload, 'file_name': fn, 'force': True} for fn in selected_files]\n",
    "# process_jobs(datas, num_threads=min(len(datas), 20))\n",
    "# datas"
   ]
  },
  {
   "cell_type": "code",
   "execution_count": 29,
   "metadata": {
    "scrolled": false
   },
   "outputs": [
    {
     "name": "stderr",
     "output_type": "stream",
     "text": [
      "2020-02-21 15:08:28,945 Generating signals for 47 symbols on 443465 events with b_params=50\n",
      "2020-02-21 15:08:30,313 clf_signals shape (443465, 47)\n",
      "2020-02-21 15:08:33,222 Generating signals for 47 symbols on 443004 events with b_params=25\n",
      "2020-02-21 15:08:34,542 clf_signals shape (443004, 47)\n",
      "2020-02-21 15:08:37,412 Generating signals for 47 symbols on 442478 events with b_params=12\n",
      "2020-02-21 15:08:38,743 clf_signals shape (442478, 47)\n",
      "2020-02-21 15:08:41,593 Generating signals for 47 symbols on 440529 events with b_params=6\n",
      "2020-02-21 15:08:42,917 clf_signals shape (440529, 47)\n",
      "2020-02-21 15:08:45,752 Generating signals for 47 symbols on 443004 events with b_params=25\n",
      "2020-02-21 15:08:47,069 clf_signals shape (443004, 47)\n",
      "2020-02-21 15:08:49,944 Generating signals for 47 symbols on 443465 events with b_params=50\n",
      "2020-02-21 15:08:51,274 clf_signals shape (443465, 47)\n",
      "2020-02-21 15:08:54,124 Generating signals for 47 symbols on 440529 events with b_params=6\n",
      "2020-02-21 15:08:55,465 clf_signals shape (440529, 47)\n",
      "2020-02-21 15:08:58,319 Generating signals for 47 symbols on 442478 events with b_params=12\n",
      "2020-02-21 15:08:59,655 clf_signals shape (442478, 47)\n",
      "2020-02-21 15:09:02,511 Generating signals for 47 symbols on 443465 events with b_params=50\n",
      "2020-02-21 15:09:03,866 clf_signals shape (443465, 47)\n",
      "2020-02-21 15:09:06,699 Generating signals for 47 symbols on 442478 events with b_params=12\n",
      "2020-02-21 15:09:08,071 clf_signals shape (442478, 47)\n",
      "2020-02-21 15:09:10,909 Generating signals for 47 symbols on 440529 events with b_params=6\n",
      "2020-02-21 15:09:12,287 clf_signals shape (440529, 47)\n",
      "2020-02-21 15:09:15,160 Generating signals for 47 symbols on 443004 events with b_params=25\n",
      "2020-02-21 15:09:16,533 clf_signals shape (443004, 47)\n",
      "2020-02-21 15:09:30,803 Creating primary tearsheet for C:\\Users\\doda/pr/fincl/frontend/public/payloads\\f_payload_MULTI_12.json\n"
     ]
    },
    {
     "ename": "AttributeError",
     "evalue": "'float' object has no attribute 'shift'",
     "output_type": "error",
     "traceback": [
      "\u001b[1;31m---------------------------------------------------------------------------\u001b[0m",
      "\u001b[1;31mAttributeError\u001b[0m                            Traceback (most recent call last)",
      "\u001b[1;32m<ipython-input-29-8cd3f748a1ee>\u001b[0m in \u001b[0;36m<module>\u001b[1;34m\u001b[0m\n\u001b[1;32m----> 1\u001b[1;33m \u001b[0mcreate_frontend_payload\u001b[0m\u001b[1;33m(\u001b[0m\u001b[0mselected_files\u001b[0m\u001b[1;33m,\u001b[0m \u001b[1;32mTrue\u001b[0m\u001b[1;33m)\u001b[0m\u001b[1;33m\u001b[0m\u001b[1;33m\u001b[0m\u001b[0m\n\u001b[0m",
      "\u001b[1;32m~\\pr\\fincl\\backend\\mlbt\\tearsheets.py\u001b[0m in \u001b[0;36mcreate_frontend_payload\u001b[1;34m(file_names, force, our_config)\u001b[0m\n\u001b[0;32m    128\u001b[0m \u001b[1;33m\u001b[0m\u001b[0m\n\u001b[0;32m    129\u001b[0m     primary_rets, pay_j[\"primary\"][\"pnl\"] = create_tearsheet(\n\u001b[1;32m--> 130\u001b[1;33m         \u001b[0mconfig\u001b[0m\u001b[1;33m,\u001b[0m \u001b[0mcloses\u001b[0m\u001b[1;33m,\u001b[0m \u001b[0mprimary_signals\u001b[0m\u001b[1;33m,\u001b[0m \u001b[0mnew_file_name\u001b[0m\u001b[1;33m,\u001b[0m \u001b[1;34m\"primary\"\u001b[0m\u001b[1;33m\u001b[0m\u001b[1;33m\u001b[0m\u001b[0m\n\u001b[0m\u001b[0;32m    131\u001b[0m     )\n\u001b[0;32m    132\u001b[0m     \u001b[1;32mif\u001b[0m \u001b[0mpay_j\u001b[0m\u001b[1;33m[\u001b[0m\u001b[1;34m\"secondary\"\u001b[0m\u001b[1;33m]\u001b[0m\u001b[1;33m:\u001b[0m\u001b[1;33m\u001b[0m\u001b[1;33m\u001b[0m\u001b[0m\n",
      "\u001b[1;32m~\\pr\\fincl\\backend\\mlbt\\tearsheets.py\u001b[0m in \u001b[0;36mcreate_tearsheet\u001b[1;34m(config, close, signal, file_name, report_type, benchmark_rets)\u001b[0m\n\u001b[0;32m    160\u001b[0m     \u001b[0msignal\u001b[0m \u001b[1;33m=\u001b[0m \u001b[1;33m(\u001b[0m\u001b[0msignal\u001b[0m \u001b[1;33m+\u001b[0m \u001b[1;36m1\u001b[0m\u001b[1;33m)\u001b[0m \u001b[1;33m/\u001b[0m \u001b[1;36m2\u001b[0m\u001b[1;33m\u001b[0m\u001b[1;33m\u001b[0m\u001b[0m\n\u001b[0;32m    161\u001b[0m     \u001b[0mpos_size\u001b[0m \u001b[1;33m=\u001b[0m \u001b[1;36m20000\u001b[0m\u001b[1;33m\u001b[0m\u001b[1;33m\u001b[0m\u001b[0m\n\u001b[1;32m--> 162\u001b[1;33m     \u001b[0mdf_net\u001b[0m\u001b[1;33m,\u001b[0m \u001b[0mdf_gross\u001b[0m\u001b[1;33m,\u001b[0m \u001b[0mcost_stats\u001b[0m \u001b[1;33m=\u001b[0m \u001b[0msimulate_pnl\u001b[0m\u001b[1;33m(\u001b[0m\u001b[0mconfig\u001b[0m\u001b[1;33m,\u001b[0m \u001b[0mclose\u001b[0m\u001b[1;33m,\u001b[0m \u001b[0msignal\u001b[0m\u001b[1;33m,\u001b[0m \u001b[0mpos_size\u001b[0m\u001b[1;33m)\u001b[0m\u001b[1;33m\u001b[0m\u001b[1;33m\u001b[0m\u001b[0m\n\u001b[0m\u001b[0;32m    163\u001b[0m     \u001b[0mreturns_net\u001b[0m \u001b[1;33m=\u001b[0m \u001b[0mcalc_returns\u001b[0m\u001b[1;33m(\u001b[0m\u001b[0mdf_net\u001b[0m\u001b[1;33m)\u001b[0m\u001b[1;33m\u001b[0m\u001b[1;33m\u001b[0m\u001b[0m\n\u001b[0;32m    164\u001b[0m     \u001b[0mreturns_net\u001b[0m\u001b[1;33m.\u001b[0m\u001b[0mname\u001b[0m \u001b[1;33m=\u001b[0m \u001b[0mreport_type\u001b[0m\u001b[1;33m.\u001b[0m\u001b[0mtitle\u001b[0m\u001b[1;33m(\u001b[0m\u001b[1;33m)\u001b[0m\u001b[1;33m\u001b[0m\u001b[1;33m\u001b[0m\u001b[0m\n",
      "\u001b[1;32m~\\pr\\fincl\\backend\\mlbt\\historical_bt.py\u001b[0m in \u001b[0;36msimulate_pnl\u001b[1;34m(config, close, signal, pos_size, pos_cap_multi, init_capital)\u001b[0m\n\u001b[0;32m     31\u001b[0m     \u001b[0mnav_net\u001b[0m \u001b[1;33m=\u001b[0m \u001b[1;33m(\u001b[0m\u001b[1;36m1\u001b[0m \u001b[1;33m+\u001b[0m \u001b[1;33m(\u001b[0m\u001b[0mprofits_net\u001b[0m\u001b[1;33m)\u001b[0m \u001b[1;33m/\u001b[0m \u001b[0minit_capital\u001b[0m\u001b[1;33m)\u001b[0m\u001b[1;33m.\u001b[0m\u001b[0mcumprod\u001b[0m\u001b[1;33m(\u001b[0m\u001b[1;33m)\u001b[0m\u001b[1;33m\u001b[0m\u001b[1;33m\u001b[0m\u001b[0m\n\u001b[0;32m     32\u001b[0m \u001b[1;33m\u001b[0m\u001b[0m\n\u001b[1;32m---> 33\u001b[1;33m     \u001b[0mnav_gross\u001b[0m \u001b[1;33m=\u001b[0m \u001b[0madjust_to_own_vola\u001b[0m\u001b[1;33m(\u001b[0m\u001b[0mnav_gross\u001b[0m\u001b[1;33m,\u001b[0m \u001b[0mRAW\u001b[0m\u001b[1;33m,\u001b[0m \u001b[0mRAWWW\u001b[0m\u001b[1;33m,\u001b[0m \u001b[0mRAA\u001b[0m\u001b[1;33m)\u001b[0m \u001b[1;31m# meow\u001b[0m\u001b[1;33m\u001b[0m\u001b[1;33m\u001b[0m\u001b[0m\n\u001b[0m\u001b[0;32m     34\u001b[0m     \u001b[0mnav_net\u001b[0m \u001b[1;33m=\u001b[0m \u001b[0madjust_to_own_vola\u001b[0m\u001b[1;33m(\u001b[0m\u001b[0mnav_net\u001b[0m\u001b[1;33m,\u001b[0m \u001b[0mRAW\u001b[0m\u001b[1;33m,\u001b[0m \u001b[0mRAWWW\u001b[0m\u001b[1;33m,\u001b[0m \u001b[0mRAA\u001b[0m\u001b[1;33m)\u001b[0m \u001b[1;31m# meow\u001b[0m\u001b[1;33m\u001b[0m\u001b[1;33m\u001b[0m\u001b[0m\n\u001b[0;32m     35\u001b[0m \u001b[1;33m\u001b[0m\u001b[0m\n",
      "\u001b[1;32m~\\pr\\fincl\\backend\\mlbt\\historical_bt.py\u001b[0m in \u001b[0;36madjust_to_own_vola\u001b[1;34m(nav, periods, periods_l, mult_factor)\u001b[0m\n\u001b[0;32m     40\u001b[0m     \u001b[0mnav_vol\u001b[0m \u001b[1;33m=\u001b[0m \u001b[0mnp\u001b[0m\u001b[1;33m.\u001b[0m\u001b[0mlog\u001b[0m\u001b[1;33m(\u001b[0m\u001b[0mnav\u001b[0m\u001b[1;33m)\u001b[0m\u001b[1;33m.\u001b[0m\u001b[0mdiff\u001b[0m\u001b[1;33m(\u001b[0m\u001b[1;33m)\u001b[0m\u001b[1;33m.\u001b[0m\u001b[0mewm\u001b[0m\u001b[1;33m(\u001b[0m\u001b[0mcom\u001b[0m\u001b[1;33m=\u001b[0m\u001b[0mperiods\u001b[0m\u001b[1;33m)\u001b[0m\u001b[1;33m.\u001b[0m\u001b[0mstd\u001b[0m\u001b[1;33m(\u001b[0m\u001b[1;33m)\u001b[0m\u001b[1;33m[\u001b[0m\u001b[0mperiods\u001b[0m\u001b[1;33m:\u001b[0m\u001b[1;33m]\u001b[0m\u001b[1;33m\u001b[0m\u001b[1;33m\u001b[0m\u001b[0m\n\u001b[0;32m     41\u001b[0m     \u001b[0mstd_nav_vol\u001b[0m \u001b[1;33m=\u001b[0m \u001b[1;33m(\u001b[0m\u001b[1;33m(\u001b[0m\u001b[0mnav_vol\u001b[0m \u001b[1;33m-\u001b[0m \u001b[0mnav_vol\u001b[0m\u001b[1;33m.\u001b[0m\u001b[0mmean\u001b[0m\u001b[1;33m(\u001b[0m\u001b[1;33m)\u001b[0m\u001b[1;33m)\u001b[0m \u001b[1;33m/\u001b[0m \u001b[0mnav_vol\u001b[0m\u001b[1;33m.\u001b[0m\u001b[0mrolling\u001b[0m\u001b[1;33m(\u001b[0m\u001b[0mperiods_l\u001b[0m\u001b[1;33m)\u001b[0m\u001b[1;33m.\u001b[0m\u001b[0mstd\u001b[0m\u001b[1;33m(\u001b[0m\u001b[1;33m)\u001b[0m\u001b[1;33m)\u001b[0m\u001b[1;33m\u001b[0m\u001b[1;33m\u001b[0m\u001b[0m\n\u001b[1;32m---> 42\u001b[1;33m     \u001b[0mstd_nav_vol\u001b[0m \u001b[1;33m=\u001b[0m \u001b[1;33m(\u001b[0m\u001b[0mstd_nav_vol\u001b[0m\u001b[1;33m)\u001b[0m\u001b[1;33m.\u001b[0m\u001b[0mclip\u001b[0m\u001b[1;33m(\u001b[0m\u001b[1;33m-\u001b[0m\u001b[1;36m2\u001b[0m\u001b[1;33m,\u001b[0m\u001b[1;36m2\u001b[0m\u001b[1;33m)\u001b[0m \u001b[1;33m*\u001b[0m \u001b[1;33m-\u001b[0m\u001b[1;36m0.5\u001b[0m \u001b[1;33m*\u001b[0m \u001b[0mmult_factor\u001b[0m\u001b[1;33m.\u001b[0m\u001b[0mshift\u001b[0m\u001b[1;33m(\u001b[0m\u001b[1;36m1\u001b[0m\u001b[1;33m)\u001b[0m \u001b[1;31m# clip to 2 stdev and invert to create portfolio adjustor\u001b[0m\u001b[1;33m\u001b[0m\u001b[1;33m\u001b[0m\u001b[0m\n\u001b[0m\u001b[0;32m     43\u001b[0m     \u001b[1;32mreturn\u001b[0m \u001b[0mstd_nav_vol\u001b[0m\u001b[1;33m\u001b[0m\u001b[1;33m\u001b[0m\u001b[0m\n\u001b[0;32m     44\u001b[0m \u001b[1;33m\u001b[0m\u001b[0m\n",
      "\u001b[1;31mAttributeError\u001b[0m: 'float' object has no attribute 'shift'"
     ]
    }
   ],
   "source": [
    "create_frontend_payload(selected_files, True)"
   ]
  },
  {
   "cell_type": "code",
   "execution_count": 53,
   "metadata": {
    "scrolled": false
   },
   "outputs": [],
   "source": [
    "%debug"
   ]
  },
  {
   "cell_type": "code",
   "execution_count": null,
   "metadata": {
    "scrolled": true
   },
   "outputs": [],
   "source": [
    "# for file in files:\n",
    "#     create_frontend_payload(file, True)"
   ]
  },
  {
   "cell_type": "code",
   "execution_count": null,
   "metadata": {},
   "outputs": [],
   "source": []
  }
 ],
 "metadata": {
  "kernelspec": {
   "display_name": "Python 3",
   "language": "python",
   "name": "python3"
  },
  "language_info": {
   "codemirror_mode": {
    "name": "ipython",
    "version": 3
   },
   "file_extension": ".py",
   "mimetype": "text/x-python",
   "name": "python",
   "nbconvert_exporter": "python",
   "pygments_lexer": "ipython3",
   "version": "3.6.7"
  }
 },
 "nbformat": 4,
 "nbformat_minor": 2
}
