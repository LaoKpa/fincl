{
 "cells": [
  {
   "cell_type": "code",
   "execution_count": 1,
   "metadata": {},
   "outputs": [],
   "source": [
    "%load_ext autoreload\n",
    "%autoreload 2"
   ]
  },
  {
   "cell_type": "code",
   "execution_count": null,
   "metadata": {},
   "outputs": [],
   "source": []
  },
  {
   "cell_type": "code",
   "execution_count": 2,
   "metadata": {},
   "outputs": [
    {
     "name": "stderr",
     "output_type": "stream",
     "text": [
      "c:\\users\\doda\\anaconda3\\envs\\fincl\\lib\\site-packages\\sklearn\\utils\\deprecation.py:144: FutureWarning: The sklearn.ensemble.bagging module is  deprecated in version 0.22 and will be removed in version 0.24. The corresponding classes / functions should instead be imported from sklearn.ensemble. Anything that cannot be imported from sklearn.ensemble is now part of the private API.\n",
      "  warnings.warn(message, FutureWarning)\n",
      "c:\\users\\doda\\anaconda3\\envs\\fincl\\lib\\site-packages\\sklearn\\utils\\deprecation.py:144: FutureWarning: The sklearn.ensemble.base module is  deprecated in version 0.22 and will be removed in version 0.24. The corresponding classes / functions should instead be imported from sklearn.ensemble. Anything that cannot be imported from sklearn.ensemble is now part of the private API.\n",
      "  warnings.warn(message, FutureWarning)\n",
      "c:\\users\\doda\\anaconda3\\envs\\fincl\\lib\\site-packages\\pyfolio\\pos.py:28: UserWarning: Module \"zipline.assets\" not found; mutltipliers will not be applied to position notionals.\n",
      "  ' to position notionals.'\n"
     ]
    }
   ],
   "source": [
    "import os\n",
    "import time\n",
    "\n",
    "from mlbt.load_data import DATA_DIR\n",
    "from mlbt.tearsheets import create_frontend_payload\n",
    "from mlbt.multiprocess import process_jobs\n",
    "\n",
    "def latest_files(files):\n",
    "    return list(sorted(files, key=os.path.getmtime)[::-1])\n",
    "\n",
    "all_files = (DATA_DIR / 'payloads').files()\n",
    "\n",
    "files = [x for x in all_files if x.size / 1e6 > 70 and '_none_' in x]\n",
    "\n",
    "# latest_file(files)"
   ]
  },
  {
   "cell_type": "code",
   "execution_count": 3,
   "metadata": {
    "scrolled": false
   },
   "outputs": [
    {
     "name": "stdout",
     "output_type": "stream",
     "text": [
      "[Path('C:\\\\Users\\\\doda/Dropbox/algotrading/data\\\\payloads\\\\payload_agriculture-currency-energy-equity_index-interest_rate-metals_dollar_fixed_horizon_50_none_[]_random_forest.json'), Path('C:\\\\Users\\\\doda/Dropbox/algotrading/data\\\\payloads\\\\payload_agriculture-currency-energy-equity_index-interest_rate-metals_dollar_fixed_horizon_50_none_[]_knn.json'), Path('C:\\\\Users\\\\doda/Dropbox/algotrading/data\\\\payloads\\\\payload_agriculture-currency-energy-equity_index-interest_rate-metals_dollar_fixed_horizon_10_none_[]_random_forest.json'), Path('C:\\\\Users\\\\doda/Dropbox/algotrading/data\\\\payloads\\\\payload_agriculture-currency-energy-equity_index-interest_rate-metals_dollar_fixed_horizon_25_none_[]_knn.json'), Path('C:\\\\Users\\\\doda/Dropbox/algotrading/data\\\\payloads\\\\payload_agriculture-currency-energy-equity_index-interest_rate-metals_dollar_fixed_horizon_100_none_[]_knn.json'), Path('C:\\\\Users\\\\doda/Dropbox/algotrading/data\\\\payloads\\\\payload_agriculture-currency-energy-equity_index-interest_rate-metals_dollar_fixed_horizon_10_none_[]_knn.json'), Path('C:\\\\Users\\\\doda/Dropbox/algotrading/data\\\\payloads\\\\payload_agriculture-currency-energy-equity_index-interest_rate-metals_dollar_fixed_horizon_10_none_[]_lgbm.json'), Path('C:\\\\Users\\\\doda/Dropbox/algotrading/data\\\\payloads\\\\payload_agriculture-currency-energy-equity_index-interest_rate-metals_dollar_fixed_horizon_100_none_[]_xgboost.json'), Path('C:\\\\Users\\\\doda/Dropbox/algotrading/data\\\\payloads\\\\payload_agriculture-currency-energy-equity_index-interest_rate-metals_dollar_fixed_horizon_100_none_[]_random_forest.json'), Path('C:\\\\Users\\\\doda/Dropbox/algotrading/data\\\\payloads\\\\payload_agriculture-currency-energy-equity_index-interest_rate-metals_dollar_fixed_horizon_50_none_[]_lgbm.json'), Path('C:\\\\Users\\\\doda/Dropbox/algotrading/data\\\\payloads\\\\payload_agriculture-currency-energy-equity_index-interest_rate-metals_dollar_fixed_horizon_25_none_[]_xgboost.json'), Path('C:\\\\Users\\\\doda/Dropbox/algotrading/data\\\\payloads\\\\payload_agriculture-currency-energy-equity_index-interest_rate-metals_dollar_fixed_horizon_10_none_[]_xgboost.json'), Path('C:\\\\Users\\\\doda/Dropbox/algotrading/data\\\\payloads\\\\payload_agriculture-currency-energy-equity_index-interest_rate-metals_dollar_fixed_horizon_25_none_[]_random_forest.json'), Path('C:\\\\Users\\\\doda/Dropbox/algotrading/data\\\\payloads\\\\payload_agriculture-currency-energy-equity_index-interest_rate-metals_dollar_fixed_horizon_100_none_[]_lgbm.json'), Path('C:\\\\Users\\\\doda/Dropbox/algotrading/data\\\\payloads\\\\payload_agriculture-currency-energy-equity_index-interest_rate-metals_dollar_fixed_horizon_50_none_[]_dummy.json'), Path('C:\\\\Users\\\\doda/Dropbox/algotrading/data\\\\payloads\\\\payload_agriculture-currency-energy-equity_index-interest_rate-metals_dollar_fixed_horizon_50_none_[]_xgboost.json'), Path('C:\\\\Users\\\\doda/Dropbox/algotrading/data\\\\payloads\\\\payload_agriculture-currency-energy-equity_index-interest_rate-metals_dollar_fixed_horizon_25_none_[]_lgbm.json'), Path('C:\\\\Users\\\\doda/Dropbox/algotrading/data\\\\payloads\\\\payload_agriculture-currency-energy-equity_index-interest_rate-metals_dollar_fixed_horizon_25_none_[]_dummy.json'), Path('C:\\\\Users\\\\doda/Dropbox/algotrading/data\\\\payloads\\\\payload_agriculture-currency-energy-equity_index-interest_rate-metals_dollar_fixed_horizon_100_none_[]_dummy.json'), Path('C:\\\\Users\\\\doda/Dropbox/algotrading/data\\\\payloads\\\\payload_agriculture-currency-energy-equity_index-interest_rate-metals_dollar_fixed_horizon_10_none_[]_dummy.json')]\n"
     ]
    },
    {
     "name": "stderr",
     "output_type": "stream",
     "text": [
      "2020-02-07 17:08:37.712308 100.0% create_frontend_payload done after 1.03 minutes. Remaining 0.0 minutes.\n"
     ]
    },
    {
     "data": {
      "text/plain": [
       "[{'func': <function mlbt.tearsheets.create_frontend_payload(file_name, force=False)>,\n",
       "  'file_name': Path('C:\\\\Users\\\\doda/Dropbox/algotrading/data\\\\payloads\\\\payload_agriculture-currency-energy-equity_index-interest_rate-metals_dollar_fixed_horizon_50_none_[]_random_forest.json'),\n",
       "  'force': True},\n",
       " {'func': <function mlbt.tearsheets.create_frontend_payload(file_name, force=False)>,\n",
       "  'file_name': Path('C:\\\\Users\\\\doda/Dropbox/algotrading/data\\\\payloads\\\\payload_agriculture-currency-energy-equity_index-interest_rate-metals_dollar_fixed_horizon_50_none_[]_knn.json'),\n",
       "  'force': True},\n",
       " {'func': <function mlbt.tearsheets.create_frontend_payload(file_name, force=False)>,\n",
       "  'file_name': Path('C:\\\\Users\\\\doda/Dropbox/algotrading/data\\\\payloads\\\\payload_agriculture-currency-energy-equity_index-interest_rate-metals_dollar_fixed_horizon_10_none_[]_random_forest.json'),\n",
       "  'force': True},\n",
       " {'func': <function mlbt.tearsheets.create_frontend_payload(file_name, force=False)>,\n",
       "  'file_name': Path('C:\\\\Users\\\\doda/Dropbox/algotrading/data\\\\payloads\\\\payload_agriculture-currency-energy-equity_index-interest_rate-metals_dollar_fixed_horizon_25_none_[]_knn.json'),\n",
       "  'force': True},\n",
       " {'func': <function mlbt.tearsheets.create_frontend_payload(file_name, force=False)>,\n",
       "  'file_name': Path('C:\\\\Users\\\\doda/Dropbox/algotrading/data\\\\payloads\\\\payload_agriculture-currency-energy-equity_index-interest_rate-metals_dollar_fixed_horizon_100_none_[]_knn.json'),\n",
       "  'force': True},\n",
       " {'func': <function mlbt.tearsheets.create_frontend_payload(file_name, force=False)>,\n",
       "  'file_name': Path('C:\\\\Users\\\\doda/Dropbox/algotrading/data\\\\payloads\\\\payload_agriculture-currency-energy-equity_index-interest_rate-metals_dollar_fixed_horizon_10_none_[]_knn.json'),\n",
       "  'force': True},\n",
       " {'func': <function mlbt.tearsheets.create_frontend_payload(file_name, force=False)>,\n",
       "  'file_name': Path('C:\\\\Users\\\\doda/Dropbox/algotrading/data\\\\payloads\\\\payload_agriculture-currency-energy-equity_index-interest_rate-metals_dollar_fixed_horizon_10_none_[]_lgbm.json'),\n",
       "  'force': True},\n",
       " {'func': <function mlbt.tearsheets.create_frontend_payload(file_name, force=False)>,\n",
       "  'file_name': Path('C:\\\\Users\\\\doda/Dropbox/algotrading/data\\\\payloads\\\\payload_agriculture-currency-energy-equity_index-interest_rate-metals_dollar_fixed_horizon_100_none_[]_xgboost.json'),\n",
       "  'force': True},\n",
       " {'func': <function mlbt.tearsheets.create_frontend_payload(file_name, force=False)>,\n",
       "  'file_name': Path('C:\\\\Users\\\\doda/Dropbox/algotrading/data\\\\payloads\\\\payload_agriculture-currency-energy-equity_index-interest_rate-metals_dollar_fixed_horizon_100_none_[]_random_forest.json'),\n",
       "  'force': True},\n",
       " {'func': <function mlbt.tearsheets.create_frontend_payload(file_name, force=False)>,\n",
       "  'file_name': Path('C:\\\\Users\\\\doda/Dropbox/algotrading/data\\\\payloads\\\\payload_agriculture-currency-energy-equity_index-interest_rate-metals_dollar_fixed_horizon_50_none_[]_lgbm.json'),\n",
       "  'force': True},\n",
       " {'func': <function mlbt.tearsheets.create_frontend_payload(file_name, force=False)>,\n",
       "  'file_name': Path('C:\\\\Users\\\\doda/Dropbox/algotrading/data\\\\payloads\\\\payload_agriculture-currency-energy-equity_index-interest_rate-metals_dollar_fixed_horizon_25_none_[]_xgboost.json'),\n",
       "  'force': True},\n",
       " {'func': <function mlbt.tearsheets.create_frontend_payload(file_name, force=False)>,\n",
       "  'file_name': Path('C:\\\\Users\\\\doda/Dropbox/algotrading/data\\\\payloads\\\\payload_agriculture-currency-energy-equity_index-interest_rate-metals_dollar_fixed_horizon_10_none_[]_xgboost.json'),\n",
       "  'force': True},\n",
       " {'func': <function mlbt.tearsheets.create_frontend_payload(file_name, force=False)>,\n",
       "  'file_name': Path('C:\\\\Users\\\\doda/Dropbox/algotrading/data\\\\payloads\\\\payload_agriculture-currency-energy-equity_index-interest_rate-metals_dollar_fixed_horizon_25_none_[]_random_forest.json'),\n",
       "  'force': True},\n",
       " {'func': <function mlbt.tearsheets.create_frontend_payload(file_name, force=False)>,\n",
       "  'file_name': Path('C:\\\\Users\\\\doda/Dropbox/algotrading/data\\\\payloads\\\\payload_agriculture-currency-energy-equity_index-interest_rate-metals_dollar_fixed_horizon_100_none_[]_lgbm.json'),\n",
       "  'force': True},\n",
       " {'func': <function mlbt.tearsheets.create_frontend_payload(file_name, force=False)>,\n",
       "  'file_name': Path('C:\\\\Users\\\\doda/Dropbox/algotrading/data\\\\payloads\\\\payload_agriculture-currency-energy-equity_index-interest_rate-metals_dollar_fixed_horizon_50_none_[]_dummy.json'),\n",
       "  'force': True},\n",
       " {'func': <function mlbt.tearsheets.create_frontend_payload(file_name, force=False)>,\n",
       "  'file_name': Path('C:\\\\Users\\\\doda/Dropbox/algotrading/data\\\\payloads\\\\payload_agriculture-currency-energy-equity_index-interest_rate-metals_dollar_fixed_horizon_50_none_[]_xgboost.json'),\n",
       "  'force': True},\n",
       " {'func': <function mlbt.tearsheets.create_frontend_payload(file_name, force=False)>,\n",
       "  'file_name': Path('C:\\\\Users\\\\doda/Dropbox/algotrading/data\\\\payloads\\\\payload_agriculture-currency-energy-equity_index-interest_rate-metals_dollar_fixed_horizon_25_none_[]_lgbm.json'),\n",
       "  'force': True},\n",
       " {'func': <function mlbt.tearsheets.create_frontend_payload(file_name, force=False)>,\n",
       "  'file_name': Path('C:\\\\Users\\\\doda/Dropbox/algotrading/data\\\\payloads\\\\payload_agriculture-currency-energy-equity_index-interest_rate-metals_dollar_fixed_horizon_25_none_[]_dummy.json'),\n",
       "  'force': True},\n",
       " {'func': <function mlbt.tearsheets.create_frontend_payload(file_name, force=False)>,\n",
       "  'file_name': Path('C:\\\\Users\\\\doda/Dropbox/algotrading/data\\\\payloads\\\\payload_agriculture-currency-energy-equity_index-interest_rate-metals_dollar_fixed_horizon_100_none_[]_dummy.json'),\n",
       "  'force': True},\n",
       " {'func': <function mlbt.tearsheets.create_frontend_payload(file_name, force=False)>,\n",
       "  'file_name': Path('C:\\\\Users\\\\doda/Dropbox/algotrading/data\\\\payloads\\\\payload_agriculture-currency-energy-equity_index-interest_rate-metals_dollar_fixed_horizon_10_none_[]_dummy.json'),\n",
       "  'force': True}]"
      ]
     },
     "execution_count": 3,
     "metadata": {},
     "output_type": "execute_result"
    }
   ],
   "source": [
    "# time.sleep(60 * 20)\n",
    "files = latest_files(files)[:20]\n",
    "print(files)\n",
    "\n",
    "datas = [{'func': create_frontend_payload, 'file_name': fn, 'force': True} for fn in files]\n",
    "process_jobs(datas, num_threads=20)\n",
    "datas"
   ]
  },
  {
   "cell_type": "code",
   "execution_count": 4,
   "metadata": {
    "scrolled": true
   },
   "outputs": [],
   "source": [
    "# create_frontend_payload(latest_file(files), True)"
   ]
  },
  {
   "cell_type": "code",
   "execution_count": 5,
   "metadata": {},
   "outputs": [
    {
     "name": "stderr",
     "output_type": "stream",
     "text": [
      "2020-02-07 17:08:38,743 No traceback has been produced, nothing to debug.\n"
     ]
    }
   ],
   "source": [
    "%debug"
   ]
  },
  {
   "cell_type": "code",
   "execution_count": null,
   "metadata": {},
   "outputs": [],
   "source": []
  }
 ],
 "metadata": {
  "kernelspec": {
   "display_name": "Python 3",
   "language": "python",
   "name": "python3"
  },
  "language_info": {
   "codemirror_mode": {
    "name": "ipython",
    "version": 3
   },
   "file_extension": ".py",
   "mimetype": "text/x-python",
   "name": "python",
   "nbconvert_exporter": "python",
   "pygments_lexer": "ipython3",
   "version": "3.6.7"
  }
 },
 "nbformat": 4,
 "nbformat_minor": 2
}
