{
 "cells": [
  {
   "cell_type": "code",
   "execution_count": 3,
   "metadata": {},
   "outputs": [],
   "source": [
    "# default_exp pnl_sim"
   ]
  },
  {
   "cell_type": "code",
   "execution_count": 1,
   "metadata": {},
   "outputs": [],
   "source": [
    "# export\n",
    "\n",
    "import logging\n",
    "import pandas as pd\n",
    "\n",
    "STEP_SIZE = 0.05\n",
    "\n",
    "\n",
    "def avg_active_signal(signal, binarize, binarize_params):\n",
    "    if binarize != \"fixed_horizon\":\n",
    "        raise ValueError(f\"Do not know how to handle binarize method '{binarize}'\")\n",
    "    avg_signal = signal.rolling(binarize_params).mean()\n",
    "    return discrete_signal(avg_signal, STEP_SIZE)\n",
    "\n",
    "\n",
    "def get_pnl_reports(events, symbols, binarize, binarize_params):\n",
    "    \"\"\"Groups our grand frames by symbol and extracts the average active signal that we'll use to trade later\"\"\"\n",
    "    closes = []\n",
    "    clf_signals = []\n",
    "    alpha_signals = []\n",
    "    logging.info(\n",
    "        f\"Generating signals for {len(symbols)} symbols on {len(events)} events with b_params={binarize_params}\"\n",
    "    )\n",
    "\n",
    "    for key, group in events.groupby(events.index.microsecond):\n",
    "        symbol = symbols[key]\n",
    "        close = group[\"close_p\"]\n",
    "        close.name = symbol\n",
    "        closes.append(close)\n",
    "        if \"side\" in group:\n",
    "            # Meta-labeling\n",
    "            alpha_s = group[\"side\"]\n",
    "            alpha_s.name = symbol\n",
    "            alpha_signals.append(alpha_s)\n",
    "            signal = group[\"y_pred\"] * group[\"side\"]\n",
    "        else:\n",
    "            signal = group[\"y_pred\"]\n",
    "\n",
    "        clf_s = avg_active_signal(signal, binarize, binarize_params)\n",
    "        clf_s.name = symbol\n",
    "        clf_signals.append(clf_s)\n",
    "\n",
    "    closes = pd.concat(closes, axis=1).ffill()\n",
    "    clf_signals = pd.concat(clf_signals, axis=1).ffill()\n",
    "\n",
    "    if \"side\" in events:\n",
    "        alpha_signals = pd.concat(alpha_signals, axis=1).ffill()\n",
    "    else:\n",
    "        alpha_signals = None\n",
    "\n",
    "    return closes, clf_signals, alpha_signals\n",
    "\n",
    "\n",
    "def discrete_signal(signal0, step_size):\n",
    "    # discretize signal\n",
    "    signal1 = (signal0 / step_size).round() * step_size\n",
    "    return signal1.clip(-1, 1)"
   ]
  }
 ],
 "metadata": {
  "kernelspec": {
   "display_name": "Python 3",
   "language": "python",
   "name": "python3"
  },
  "language_info": {
   "codemirror_mode": {
    "name": "ipython",
    "version": 3
   },
   "file_extension": ".py",
   "mimetype": "text/x-python",
   "name": "python",
   "nbconvert_exporter": "python",
   "pygments_lexer": "ipython3",
   "version": "3.6.7"
  }
 },
 "nbformat": 4,
 "nbformat_minor": 2
}
