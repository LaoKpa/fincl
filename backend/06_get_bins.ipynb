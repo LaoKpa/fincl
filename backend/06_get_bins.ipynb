{
 "cells": [
  {
   "cell_type": "code",
   "execution_count": null,
   "metadata": {},
   "outputs": [],
   "source": [
    "# default_exp get_bins"
   ]
  },
  {
   "cell_type": "code",
   "execution_count": null,
   "metadata": {},
   "outputs": [],
   "source": [
    "# export\n",
    "\n",
    "import logging\n",
    "import pandas as pd\n",
    "import numpy as np\n",
    "\n",
    "\n",
    "def get_bins(events, close):\n",
    "    \"\"\"\n",
    "    Compute event's outcome (including side information, if provided).\n",
    "    events is a DataFrame where:\n",
    "    -events.index is event's starttime\n",
    "    -events['t1'] is event's endtime\n",
    "    -events['trgt'] is event's target\n",
    "    -events['side'] (optional) implies the algo's position side\n",
    "    Case 1: ('side' not in events): bin in (-1, 1) <- label by price action\n",
    "    Case 2: ('side' in events): bin in (0, 1) <- label by pnl (meta-labeling)\n",
    "    \"\"\"\n",
    "    # 1) prices aligned with events\n",
    "    events_ = events.dropna(subset=[\"t1\"])\n",
    "    px = events_.index.union(events_[\"t1\"].values).drop_duplicates()\n",
    "    px = close.reindex(px, method=\"bfill\")\n",
    "    # 2) create out object\n",
    "    out = pd.DataFrame(index=events_.index)\n",
    "\n",
    "    out[\"ret\"] = px.loc[events_[\"t1\"].values].values / px.loc[events_.index] - 1\n",
    "    if \"side\" in events_:\n",
    "        out[\"ret\"] *= events_[\"side\"]  # meta-labeling\n",
    "\n",
    "    out[\"trgt\"] = events_[\"trgt\"]\n",
    "    out[\"bin\"] = np.sign(out[\"ret\"].fillna(0))\n",
    "\n",
    "    if \"side\" in events_:\n",
    "        out.loc[out[\"ret\"] <= 0, \"bin\"] = 0\n",
    "        out[\"side\"] = events_[\"side\"]\n",
    "\n",
    "    return out\n",
    "\n",
    "\n",
    "def drop_labels(events, mit_pct=0.2):\n",
    "    # apply weights, drop labels with insufficient examples\n",
    "    while True:\n",
    "        df0 = events[\"bin\"].value_counts(normalize=True)\n",
    "        if df0.min() > mit_pct or df0.shape[0] < 3:\n",
    "            break\n",
    "        logging.info(f\"Dropped label {df0.idxmin()} {df0.min()}\")\n",
    "        events = events[events[\"bin\"] != df0.idxmin()]\n",
    "    return events"
   ]
  }
 ],
 "metadata": {
  "kernelspec": {
   "display_name": "Python 3",
   "language": "python",
   "name": "python3"
  },
  "language_info": {
   "codemirror_mode": {
    "name": "ipython",
    "version": 3
   },
   "file_extension": ".py",
   "mimetype": "text/x-python",
   "name": "python",
   "nbconvert_exporter": "python",
   "pygments_lexer": "ipython3",
   "version": "3.6.7"
  }
 },
 "nbformat": 4,
 "nbformat_minor": 2
}
