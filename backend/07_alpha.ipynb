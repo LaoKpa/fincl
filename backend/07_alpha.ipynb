{
 "cells": [
  {
   "cell_type": "code",
   "execution_count": null,
   "metadata": {},
   "outputs": [],
   "source": [
    "# default_exp alpha"
   ]
  },
  {
   "cell_type": "code",
   "execution_count": 6,
   "metadata": {},
   "outputs": [],
   "source": [
    "import matplotlib\n",
    "%matplotlib inline"
   ]
  },
  {
   "cell_type": "code",
   "execution_count": 42,
   "metadata": {},
   "outputs": [],
   "source": [
    "# export\n",
    "import pandas as pd\n",
    "import numpy as np\n",
    "\n",
    "\n",
    "def ma_alpha(bars, fast=10, slow=100):\n",
    "    close = bars[\"Close\"]\n",
    "    slow_ma = close.rolling(slow).mean()\n",
    "    fast_ma = close.rolling(fast).mean()\n",
    "\n",
    "    # Emit NaN while the signal is warming up\n",
    "    signal = pd.Series(np.nan, index=close.index)\n",
    "    signal[fast_ma >= slow_ma] = 1\n",
    "    signal[fast_ma < slow_ma] = -1\n",
    "\n",
    "    return signal\n",
    "\n",
    "\n",
    "def bbands(close, window, stdev):\n",
    "    ma = close.rolling(window).mean()\n",
    "    std = close.rolling(window).std()\n",
    "    return (ma + stdev * std, ma - stdev * std)\n",
    "\n",
    "\n",
    "def bb_alpha(bars, length, stdev, mean_reverting):\n",
    "    if mean_reverting:\n",
    "        close_above_upper, close_below_lower = -1, 1\n",
    "    else:\n",
    "        close_above_upper, close_below_lower = 1, -1\n",
    "\n",
    "    close = bars[\"Close\"]\n",
    "\n",
    "    bb_upper_band, bb_lower_band = bbands(close, length, stdev)\n",
    "\n",
    "    signal = pd.Series(np.nan, index=close.index)\n",
    "    signal[close > bb_upper_band] = close_above_upper\n",
    "    signal[close < bb_lower_band] = close_below_lower\n",
    "    # the signal is whatever was last triggered\n",
    "    return signal.ffill()"
   ]
  },
  {
   "cell_type": "code",
   "execution_count": null,
   "metadata": {},
   "outputs": [],
   "source": []
  }
 ],
 "metadata": {
  "kernelspec": {
   "display_name": "Python 3",
   "language": "python",
   "name": "python3"
  },
  "language_info": {
   "codemirror_mode": {
    "name": "ipython",
    "version": 3
   },
   "file_extension": ".py",
   "mimetype": "text/x-python",
   "name": "python",
   "nbconvert_exporter": "python",
   "pygments_lexer": "ipython3",
   "version": "3.6.7"
  }
 },
 "nbformat": 4,
 "nbformat_minor": 2
}
