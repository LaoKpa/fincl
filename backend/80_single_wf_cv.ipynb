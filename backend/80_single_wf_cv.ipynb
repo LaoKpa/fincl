{
 "cells": [
  {
   "cell_type": "code",
   "execution_count": null,
   "metadata": {},
   "outputs": [],
   "source": [
    "# default_exp single_wf_cv"
   ]
  },
  {
   "cell_type": "code",
   "execution_count": 5,
   "metadata": {},
   "outputs": [],
   "source": [
    "#export\n",
    "import numbers\n",
    "\n",
    "\n",
    "# We're subclassing the PurgedWalkForwardCV from timeseriescv to allow us to re-use the logic for singular splits\n",
    "from timeseriescv.cross_validation import PurgedWalkForwardCV\n",
    "\n",
    "class SinglePurgedWalkForwardCV(PurgedWalkForwardCV):\n",
    "    def __init__(self, n_splits=10, n_test_splits=1, min_train_splits=2, max_train_splits=None):\n",
    "        super().__init__(n_splits)\n",
    "        if not isinstance(n_test_splits, numbers.Integral):\n",
    "            raise ValueError(f\"The number of test folds must be of Integral type. {n_test_splits} of type \"\n",
    "                             f\"{type(n_test_splits)} was passed.\")\n",
    "        n_test_splits = int(n_test_splits)\n",
    "        if n_test_splits <= 0 or n_test_splits >= self.n_splits - 1:\n",
    "            raise ValueError(f\"K-fold cross-validation requires at least one train/test split by setting \"\n",
    "                             f\"n_test_splits between 1 and n_splits - 1, got n_test_splits = {n_test_splits}.\")\n",
    "        self.n_test_splits = n_test_splits\n",
    "\n",
    "        if not isinstance(min_train_splits, numbers.Integral):\n",
    "            raise ValueError(f\"The minimal number of train folds must be of Integral type. {min_train_splits} of type \"\n",
    "                             f\"{type(min_train_splits)} was passed.\")\n",
    "        min_train_splits = int(min_train_splits)\n",
    "        if min_train_splits <= 0 or min_train_splits > self.n_splits - self.n_test_splits:\n",
    "            raise ValueError(f\"K-fold cross-validation requires at least one train/test split by setting \"\n",
    "                             f\"min_train_splits between 1 and n_splits - n_test_splits, got min_train_splits = \"\n",
    "                             f\"{min_train_splits}.\")\n",
    "        self.min_train_splits = min_train_splits\n",
    "\n",
    "        if max_train_splits is None:\n",
    "            max_train_splits = self.n_splits - self.n_test_splits\n",
    "        if not isinstance(max_train_splits, numbers.Integral):\n",
    "            raise ValueError(f\"The maximal number of train folds must be of Integral type. {max_train_splits} of type \"\n",
    "                             f\"{type(max_train_splits)} was passed.\")\n",
    "        max_train_splits = int(max_train_splits)\n",
    "        if max_train_splits <= 0 or max_train_splits > self.n_splits - self.n_test_splits:\n",
    "            raise ValueError(f\"K-fold cross-validation requires at least one train/test split by setting \"\n",
    "                             f\"max_train_split between 1 and n_splits - n_test_splits, got max_train_split = \"\n",
    "                             f\"{max_train_splits}.\")\n",
    "        self.max_train_splits = max_train_splits\n",
    "        self.fold_bounds = []\n"
   ]
  }
 ],
 "metadata": {
  "kernelspec": {
   "display_name": "Python 3",
   "language": "python",
   "name": "python3"
  },
  "language_info": {
   "codemirror_mode": {
    "name": "ipython",
    "version": 3
   },
   "file_extension": ".py",
   "mimetype": "text/x-python",
   "name": "python",
   "nbconvert_exporter": "python",
   "pygments_lexer": "ipython3",
   "version": "3.6.7"
  }
 },
 "nbformat": 4,
 "nbformat_minor": 2
}
